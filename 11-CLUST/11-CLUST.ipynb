{
 "cells": [
  {
   "cell_type": "markdown",
   "metadata": {
    "deletable": false,
    "editable": false,
    "nbgrader": {
     "checksum": "622c05b184528e2a9b5a5ee9afb8c3bb",
     "grade": false,
     "grade_id": "cell-30e9a7c49790a0f2",
     "locked": true,
     "schema_version": 1,
     "solution": false
    }
   },
   "source": [
    "# Tutorial 11: Clustering"
   ]
  },
  {
   "cell_type": "markdown",
   "metadata": {
    "deletable": false,
    "editable": false,
    "nbgrader": {
     "checksum": "b0b88f3147d3b4fc9cad8bd00c796491",
     "grade": false,
     "grade_id": "cell-36912ea78749d08d",
     "locked": true,
     "schema_version": 1,
     "solution": false
    }
   },
   "source": [
    "__The goal of this assignment is to implement your own version of the k-means algorithm.__\n",
    "\n",
    "First, you must create 5 intermediate functions to help you divide and implement the algorithm.\n",
    "\n",
    "At the end of the notebook, the algorithm should achieve a 100% score on the given dataset.\n",
    "\n",
    "__Grade scale__: 20 points\n",
    "- __correct function__: 2 points\n",
    "- __correct given result__: 4 points\n",
    "- __correct hidden result__: 6 points\n",
    "\n",
    "__Further documentations__:\n",
    "* https://learnxinyminutes.com/docs/python/\n",
    "* https://en.wikipedia.org/wiki/K-means_clustering\n",
    "* http://stanford.edu/~cpiech/cs221/handouts/kmeans.html"
   ]
  },
  {
   "cell_type": "markdown",
   "metadata": {
    "deletable": false,
    "editable": false,
    "nbgrader": {
     "checksum": "c2612ab88163aa95e0ac9e24e1267c6f",
     "grade": false,
     "grade_id": "cell-cad05a4141096aae",
     "locked": true,
     "schema_version": 1,
     "solution": false
    }
   },
   "source": [
    "# Core"
   ]
  },
  {
   "cell_type": "code",
   "execution_count": 1,
   "metadata": {
    "deletable": false,
    "editable": false,
    "nbgrader": {
     "checksum": "fcf38df47a044af7380694408c3298ca",
     "grade": false,
     "grade_id": "cell-4a6ef88e0b3c3360",
     "locked": true,
     "schema_version": 1,
     "solution": false
    }
   },
   "outputs": [],
   "source": [
    "# to display plots\n",
    "%matplotlib inline\n",
    "\n",
    "import math\n",
    "\n",
    "import matplotlib.pyplot as plt\n",
    "\n",
    "from sklearn.cluster import KMeans\n",
    "from sklearn.metrics import adjusted_rand_score\n",
    "from sklearn.datasets.samples_generator import make_blobs"
   ]
  },
  {
   "cell_type": "code",
   "execution_count": 2,
   "metadata": {
    "deletable": false,
    "editable": false,
    "nbgrader": {
     "checksum": "8d0f2a2350d8be19a4eb3b0c4923ce64",
     "grade": false,
     "grade_id": "cell-b2ab01ee37675928",
     "locked": true,
     "schema_version": 1,
     "solution": false
    }
   },
   "outputs": [],
   "source": [
    "# generate 100 data points that have 2 features, then divide them into 3 clusters\n",
    "# we shuffle the point in a deterministic way to have the same version on our computers\n",
    "X, y = make_blobs(n_samples=100, n_features=2, centers=3, cluster_std=1, shuffle=True, random_state=100)"
   ]
  },
  {
   "cell_type": "code",
   "execution_count": 3,
   "metadata": {
    "deletable": false,
    "editable": false,
    "nbgrader": {
     "checksum": "00ada913bd038ccfb9e80ac280c7df3b",
     "grade": false,
     "grade_id": "cell-9845bd902efd8101",
     "locked": true,
     "schema_version": 1,
     "solution": false
    }
   },
   "outputs": [
    {
     "data": {
      "text/plain": [
       "array([[  0.33681846,  -3.40287961],\n",
       "       [ -9.48324266,  -8.66266052],\n",
       "       [ -1.93336328,   5.70953908],\n",
       "       [-10.03182406,  -5.57834393],\n",
       "       [  0.54186078,  -4.37693628]])"
      ]
     },
     "execution_count": 3,
     "metadata": {},
     "output_type": "execute_result"
    }
   ],
   "source": [
    "# 5 data points\n",
    "# col: features\n",
    "# row: points\n",
    "X[:5]"
   ]
  },
  {
   "cell_type": "code",
   "execution_count": 4,
   "metadata": {
    "deletable": false,
    "editable": false,
    "nbgrader": {
     "checksum": "8c68b50b3f40de5b88f11bf1cf0ffe36",
     "grade": false,
     "grade_id": "cell-b8e217f127b29f5a",
     "locked": true,
     "schema_version": 1,
     "solution": false
    }
   },
   "outputs": [
    {
     "data": {
      "text/plain": [
       "array([0, 2, 1, 2, 0, 2, 1, 1, 0, 2, 0, 2, 1, 0, 1, 1, 0, 2, 2, 0, 0, 0,\n",
       "       0, 2, 1, 0, 2, 1, 0, 2, 0, 1, 0, 2, 2, 0, 0, 2, 1, 2, 1, 0, 2, 1,\n",
       "       1, 2, 2, 1, 1, 1, 1, 0, 2, 2, 0, 0, 2, 0, 2, 0, 1, 0, 0, 0, 1, 0,\n",
       "       1, 2, 2, 1, 0, 0, 2, 2, 1, 0, 2, 1, 1, 2, 2, 0, 1, 1, 0, 2, 1, 2,\n",
       "       2, 1, 2, 1, 1, 2, 1, 1, 0, 0, 1, 0])"
      ]
     },
     "execution_count": 4,
     "metadata": {},
     "output_type": "execute_result"
    }
   ],
   "source": [
    "# data point labels\n",
    "# 3 clusters: 0, 1, 2\n",
    "y"
   ]
  },
  {
   "cell_type": "code",
   "execution_count": 5,
   "metadata": {
    "deletable": false,
    "editable": false,
    "nbgrader": {
     "checksum": "d3a4cc3f7410533829cfac8f4420a3a6",
     "grade": false,
     "grade_id": "cell-24845c0053c093a9",
     "locked": true,
     "schema_version": 1,
     "solution": false
    }
   },
   "outputs": [
    {
     "data": {
      "image/png": "[encoded data removed]",
      "text/plain": [
       "<Figure size 432x288 with 1 Axes>"
      ]
     },
     "metadata": {
      "needs_background": "light"
     },
     "output_type": "display_data"
    }
   ],
   "source": [
    "# draw a scatter plot of the points\n",
    "# X[:, 0]: all points, 1st dimension\n",
    "# X[:, 1]: all points, 2nd dimension\n",
    "# c: color of the points (cluster label)\n",
    "plt.scatter(X[:, 0], X[:, 1], c=y, s=30);"
   ]
  },
  {
   "cell_type": "markdown",
   "metadata": {
    "deletable": false,
    "editable": false,
    "nbgrader": {
     "checksum": "c9d4f36a9ac55cbdf7b552ea406c468f",
     "grade": false,
     "grade_id": "cell-586b08f0e543e3cc",
     "locked": true,
     "schema_version": 1,
     "solution": false
    }
   },
   "source": [
    "# Example"
   ]
  },
  {
   "cell_type": "code",
   "execution_count": 6,
   "metadata": {
    "deletable": false,
    "editable": false,
    "nbgrader": {
     "checksum": "6fafc2636db119599933ced96215381d",
     "grade": false,
     "grade_id": "cell-6af93bb1f92e6793",
     "locked": true,
     "schema_version": 1,
     "solution": false
    }
   },
   "outputs": [
    {
     "data": {
      "text/plain": [
       "array([2, 0, 1, 0, 2, 0, 1, 1, 2, 0, 2, 0, 1, 2, 1, 1, 2, 0, 0, 2, 2, 2,\n",
       "       2, 0, 1, 2, 0, 1, 2, 0, 2, 1, 2, 0, 0, 2, 2, 0, 1, 0, 1, 2, 0, 1,\n",
       "       1, 0, 0, 1, 1, 1, 1, 2, 0, 0, 2, 2, 0, 2, 0, 2, 1, 2, 2, 2, 1, 2,\n",
       "       1, 0, 0, 1, 2, 2, 0, 0, 1, 2, 0, 1, 1, 0, 0, 2, 1, 1, 2, 0, 1, 0,\n",
       "       0, 1, 0, 1, 1, 0, 1, 1, 2, 2, 1, 2], dtype=int32)"
      ]
     },
     "execution_count": 6,
     "metadata": {},
     "output_type": "execute_result"
    }
   ],
   "source": [
    "# we use the k-means implementation of sklearn\n",
    "# to demonstrate its usage on our dataset\n",
    "# here, we create and fit a new model  \n",
    "model = KMeans(n_clusters=3).fit(X)\n",
    "\n",
    "# collect the results\n",
    "labels = model.labels_\n",
    "\n",
    "labels"
   ]
  },
  {
   "cell_type": "code",
   "execution_count": 7,
   "metadata": {
    "deletable": false,
    "editable": false,
    "nbgrader": {
     "checksum": "969271595b5d4110ce575d27ada08732",
     "grade": false,
     "grade_id": "cell-e35a1318553bffbe",
     "locked": true,
     "schema_version": 1,
     "solution": false
    }
   },
   "outputs": [
    {
     "name": "stdout",
     "output_type": "stream",
     "text": [
      "Score: 100.0000%\n"
     ]
    }
   ],
   "source": [
    "# compare the resulting labels with the true labels\n",
    "# the function should give a rand score of 100%\n",
    "score = adjusted_rand_score(y, labels)\n",
    "print(\"Score: {:0.4%}\".format(score))"
   ]
  },
  {
   "cell_type": "code",
   "execution_count": 8,
   "metadata": {
    "deletable": false,
    "editable": false,
    "nbgrader": {
     "checksum": "9f7d95641a3c676410a23ced506d7264",
     "grade": false,
     "grade_id": "cell-ca4d25cd55f85e0d",
     "locked": true,
     "schema_version": 1,
     "solution": false
    }
   },
   "outputs": [
    {
     "data": {
      "image/png": "[encoded data removed]",
      "text/plain": [
       "<Figure size 432x288 with 1 Axes>"
      ]
     },
     "metadata": {
      "needs_background": "light"
     },
     "output_type": "display_data"
    }
   ],
   "source": [
    "# draw the proposed labels on a scatter plot\n",
    "plt.scatter(X[:, 0], X[:, 1], c=labels, s=30);"
   ]
  },
  {
   "cell_type": "markdown",
   "metadata": {
    "deletable": false,
    "editable": false,
    "nbgrader": {
     "checksum": "52047d770842b3a2ddf83b15a49d09f7",
     "grade": false,
     "grade_id": "cell-c211cad31db8279c",
     "locked": true,
     "schema_version": 1,
     "solution": false
    }
   },
   "source": [
    "# Functions"
   ]
  },
  {
   "cell_type": "code",
   "execution_count": 9,
   "metadata": {
    "deletable": false,
    "nbgrader": {
     "checksum": "0699e2a94e5c72816e191378d22641f8",
     "grade": false,
     "grade_id": "cell-3d7837de4e577403",
     "locked": false,
     "schema_version": 1,
     "solution": true
    }
   },
   "outputs": [],
   "source": [
    "def distance(a, b):\n",
    "    \"\"\"Compute the euclidean distance between 2 points with n dimensions.\"\"\"    \n",
    "    d = 0\n",
    "    # YOUR CODE HERE\n",
    "    # raise NotImplementedError()\n",
    "    for i in range(len(a)):\n",
    "        d += (a[i]-b[i])**2\n",
    "    return d**(1/2)"
   ]
  },
  {
   "cell_type": "code",
   "execution_count": 10,
   "metadata": {
    "deletable": false,
    "editable": false,
    "nbgrader": {
     "checksum": "baa0e01dbf8295eaf3fcd55865c38603",
     "grade": true,
     "grade_id": "cell-a0bd5e1c203a97d8",
     "locked": true,
     "points": 2,
     "schema_version": 1,
     "solution": false
    }
   },
   "outputs": [],
   "source": [
    "# points with 1 dimension\n",
    "assert distance([1], [1]) == 0.0\n",
    "assert distance([0], [9]) == 9.0\n",
    "assert distance([9], [0]) == 9.0\n",
    "assert distance([2], [8]) == 6.0\n",
    "# points with 2 dimensions\n",
    "assert distance([2, 2], [2, 2]) == 0.0\n",
    "assert 2.2360 <= distance([3, 6], [2, 8]) <= 2.2361\n",
    "assert 9.8994 <= distance([1, 2], [8, 9]) <= 9.8995\n",
    "# points with 3 dimensions\n",
    "assert distance([3, 3, 3], [3, 3, 3]) == 0.0\n",
    "assert 10.7703 <= distance([1, 2, 3], [9, 8, 7]) <= 10.7704\n",
    "assert 1.7320 <= distance([2, 4, 6], [3, 5, 7]) <= 1.7321"
   ]
  },
  {
   "cell_type": "code",
   "execution_count": 11,
   "metadata": {
    "deletable": false,
    "nbgrader": {
     "checksum": "09a6e2c75a39e1a90c299f018695df66",
     "grade": false,
     "grade_id": "cell-1e0d02da6d74f88f",
     "locked": false,
     "schema_version": 1,
     "solution": true
    }
   },
   "outputs": [],
   "source": [
    "def initialize(points, k):\n",
    "    \"\"\"Select the k first points as the initial cluster centers.\"\"\"    \n",
    "    centers = []\n",
    "    # YOUR CODE HERE\n",
    "    # raise NotImplementedError()\n",
    "    for i in range(k):\n",
    "        centers.append(points[i])\n",
    "    return centers"
   ]
  },
  {
   "cell_type": "code",
   "execution_count": 12,
   "metadata": {
    "deletable": false,
    "editable": false,
    "nbgrader": {
     "checksum": "08c421237337a6fa4f11283f634a0ae3",
     "grade": true,
     "grade_id": "cell-31a8390f526713f6",
     "locked": true,
     "points": 2,
     "schema_version": 1,
     "solution": false
    }
   },
   "outputs": [],
   "source": [
    "# points with 1 dimension\n",
    "assert initialize([[0], [1], [2], [3], [4], [5]], 1) == [[0]]\n",
    "assert initialize([[0], [1], [2], [3], [4], [5]], 2) == [[0], [1]]\n",
    "assert initialize([[0], [1], [2], [3], [4], [5]], 3) == [[0], [1], [2]]\n",
    "# points with 2 dimensions\n",
    "assert initialize([[0, 1], [2, 3], [4, 5]], 1) == [[0, 1]]\n",
    "assert initialize([[0, 1], [2, 3], [4, 5]], 2) == [[0, 1], [2, 3]]\n",
    "assert initialize([[0, 1], [2, 3], [4, 5]], 3) == [[0, 1], [2, 3], [4, 5]]\n",
    "# points with 3 dimensions\n",
    "assert initialize([[0, 1, 2], [3, 4, 5]], 1) == [[0, 1, 2]]\n",
    "assert initialize([[0, 1, 2], [3, 4, 5]], 2) == [[0, 1, 2], [3, 4, 5]]"
   ]
  },
  {
   "cell_type": "code",
   "execution_count": 13,
   "metadata": {
    "deletable": false,
    "nbgrader": {
     "checksum": "a2daf7e3ebf1441e1c791b8dd7b60f4e",
     "grade": false,
     "grade_id": "cell-c587490cc2f14078",
     "locked": false,
     "schema_version": 1,
     "solution": true
    }
   },
   "outputs": [],
   "source": [
    "def reassign(points, centers, distance=distance):\n",
    "    \"\"\"Assign each point to its closest centers and return the center index.\"\"\" \n",
    "    labels = []\n",
    "    dist = []\n",
    "    # YOUR CODE HERE\n",
    "    # raise NotImplementedError()\n",
    "    # initial loop\n",
    "    for i in range(len(points)):\n",
    "        dist.append(distance(points[i], centers[0]))\n",
    "        labels.append(0)\n",
    "    for j in range(1,len(centers)):\n",
    "        for i in range(len(points)):\n",
    "            if distance(points[i], centers[j]) < dist[i]:\n",
    "                dist[i] = distance(points[i], centers[j])\n",
    "                labels[i] = j\n",
    "    return labels"
   ]
  },
  {
   "cell_type": "code",
   "execution_count": 14,
   "metadata": {
    "deletable": false,
    "editable": false,
    "nbgrader": {
     "checksum": "485d73e2b4a222f9ac28d8ae55152c7d",
     "grade": true,
     "grade_id": "cell-a12d934fe3821562",
     "locked": true,
     "points": 2,
     "schema_version": 1,
     "solution": false
    }
   },
   "outputs": [],
   "source": [
    "# points with 1 dimension\n",
    "# left array: points, right array: centers\n",
    "# the returned value is the index of the center\n",
    "assert reassign([[1], [3], [7], [9]], [[0], [10]]) == [0, 0, 1, 1]\n",
    "assert reassign([[1], [3], [7], [9]], [[0], [100]]) == [0, 0, 0, 0]\n",
    "assert reassign([[1], [3], [7], [9]], [[100], [0]]) == [1, 1, 1, 1]\n",
    "# points with 2 dimensions\n",
    "assert reassign([[1, 1], [9, 9]], [[0, 0], [10, 10]]) == [0, 1]\n",
    "assert reassign([[1, 1], [9, 9]], [[10, 10], [0, 0]]) == [1, 0]\n",
    "assert reassign([[1, 1], [9, 9]], [[10, 10], [100, 100]]) == [0, 0]\n",
    "# points with 3 dimensions\n",
    "assert reassign([[1, 2, 3], [7, 8, 9]], [[0, 0, 0], [10, 10, 10]]) == [0, 1]\n",
    "assert reassign([[6, 7, 8], [7, 8, 9]], [[0, 0, 0], [10, 10, 10]]) == [1, 1]\n",
    "assert reassign([[1, 2, 3], [7, 8, 9]], [[0, 0, 0], [10, 100, 0]]) == [0, 0]"
   ]
  },
  {
   "cell_type": "code",
   "execution_count": 15,
   "metadata": {
    "deletable": false,
    "nbgrader": {
     "checksum": "4a3ca1dc3ec4ad2d983aa695dccfd87a",
     "grade": false,
     "grade_id": "cell-c90b2ea695088d5c",
     "locked": false,
     "schema_version": 1,
     "solution": true
    }
   },
   "outputs": [],
   "source": [
    "def recompute(points, labels):\n",
    "    \"\"\"Compute the coordinates of each center based their labels.\"\"\"\n",
    "    centers = []\n",
    "    clusters = []\n",
    "    # YOUR CODE HERE\n",
    "    # raise NotImplementedError()\n",
    "    # initialize centers and clusters\n",
    "    for i in labels:\n",
    "        while len(centers) < i+1:\n",
    "            element = list()\n",
    "            for _ in range(len(points[0])):\n",
    "                element.append(0)\n",
    "            centers.append(element)\n",
    "            clusters.append(0)\n",
    "    # adding values to clusters, and calculating number of element for each cluster\n",
    "    for i in range(len(labels)):\n",
    "        clusters[labels[i]]+=1\n",
    "        for j in range(len(points[i])):\n",
    "            centers[labels[i]][j]+=points[i][j]\n",
    "    # calculating mean from sums\n",
    "    for i in range(len(clusters)):\n",
    "        for j in range(len(centers[i])):\n",
    "            centers[i][j] = centers[i][j]/clusters[i]\n",
    "    return centers"
   ]
  },
  {
   "cell_type": "code",
   "execution_count": 16,
   "metadata": {
    "deletable": false,
    "editable": false,
    "nbgrader": {
     "checksum": "b6587281bd8663d838b5db3af5fb60ad",
     "grade": true,
     "grade_id": "cell-61ff27abfd948552",
     "locked": true,
     "points": 2,
     "schema_version": 1,
     "solution": false
    }
   },
   "outputs": [],
   "source": [
    "# with 1 dimension\n",
    "# return the center coordinates from their labels\n",
    "# think of it as the opposite of the reassign function\n",
    "assert recompute([[0], [2], [4], [6], [8], [10]], [0, 0, 0, 0, 0, 0]) == [[5.0]]\n",
    "assert recompute([[0], [2], [4], [6], [8], [10]], [0, 0, 0, 0, 1, 1]) == [[3.0], [9.0]]\n",
    "assert recompute([[0], [2], [4], [6], [8], [10]], [1, 0, 0, 0, 0, 1]) == [[5.0], [5.0]]\n",
    "assert recompute([[0], [2], [4], [6], [8], [10]], [0, 0, 0, 0, 0, 1]) == [[4.0], [10.0]]\n",
    "assert recompute([[0], [2], [4], [6], [8], [10]], [2, 1, 0, 0, 1, 2]) == [[5.0], [5.0], [5.0]]\n",
    "# with 2 dimensions\n",
    "assert recompute([[2, 2], [4, 4], [6, 6], [8, 8]], [0, 1, 2, 3]) == [[2, 2], [4, 4], [6, 6], [8, 8]]\n",
    "assert recompute([[2, 2], [4, 4], [6, 6], [8, 8]], [0, 1, 1, 0]) == [[5.0, 5.0], [5.0, 5.0]]\n",
    "assert recompute([[2, 2], [4, 4], [6, 6], [8, 8]], [1, 1, 0, 0]) == [[7.0, 7.0], [3.0, 3.0]]\n",
    "# with 3 dimensions\n",
    "assert recompute([[0, 2, 4], [4, 6, 8], [1, 3, 5], [5, 7, 9]], [0, 0, 0, 0]) == [[2.5, 4.5, 6.5]]\n",
    "assert recompute([[0, 2, 4], [4, 6, 8], [1, 3, 5], [5, 7, 9]], [0, 0, 1, 1]) == [[2.0, 4.0, 6.0], [3.0, 5.0, 7.0]]\n",
    "assert recompute([[0, 2, 4], [4, 6, 8], [1, 3, 5], [5, 7, 9]], [1, 0, 1, 0]) == [[4.5, 6.5, 8.5], [0.5, 2.5, 4.5]]"
   ]
  },
  {
   "cell_type": "code",
   "execution_count": 17,
   "metadata": {
    "deletable": false,
    "nbgrader": {
     "checksum": "ea0a1729c8e5065996b188b710fe10ea",
     "grade": false,
     "grade_id": "cell-83f5e4fe6ea14559",
     "locked": false,
     "schema_version": 1,
     "solution": true
    }
   },
   "outputs": [],
   "source": [
    "def converged(current, proposed):\n",
    "    \"\"\"Test that current and proposed centers have converged.\"\"\"\n",
    "    # YOUR CODE HERE\n",
    "    # raise NotImplementedError()\n",
    "    if len(current) != len(proposed):\n",
    "        return False\n",
    "    for i in range(len(current)):\n",
    "        for j in range(len(current[i])):\n",
    "            if current[i][j] != proposed[i][j]:\n",
    "                return False\n",
    "    return True"
   ]
  },
  {
   "cell_type": "code",
   "execution_count": 18,
   "metadata": {
    "deletable": false,
    "editable": false,
    "nbgrader": {
     "checksum": "dad7be0226ec569f62d56bab7f43788f",
     "grade": true,
     "grade_id": "cell-bd78bbe7a2419bdb",
     "locked": true,
     "points": 2,
     "schema_version": 1,
     "solution": false
    }
   },
   "outputs": [],
   "source": [
    "# with 1 dimension\n",
    "assert converged([[0]], [[0]]) == True\n",
    "assert converged([[1]], [[1]]) == True\n",
    "assert converged([[1]], [[0]]) == False\n",
    "assert converged([[0]], [[1]]) == False\n",
    "assert converged([[0], [0]], [[0], [0]]) == True\n",
    "assert converged([[1], [0]], [[0], [1]]) == False\n",
    "assert converged([[0], [0]], [[0], [1]]) == False\n",
    "assert converged([[1], [0]], [[0], [0]]) == False\n",
    "# with 2 dimensions\n",
    "assert converged([[0, 0], [1, 1]], [[0, 0]]) == False\n",
    "assert converged([[0, 0], [1, 1]], [[0, 0], [1, 1]]) == True\n",
    "assert converged([[0, 0], [1, 1]], [[1, 1], [0, 0]]) == False\n",
    "assert converged([[0, 0], [1, 1]], [[2, 2], [1, 1]]) == False\n",
    "# with 3 dimensions\n",
    "assert converged([[1, 2, 3], [4, 5, 6]], [[1, 2, 3]]) == False\n",
    "assert converged([[1, 2, 3]], [[1, 2, 3], [4, 5, 6]]) == False\n",
    "assert converged([[1, 2, 3], [0, 0, 0]], [[1, 2, 3], [0, 0 ,0]]) == True\n",
    "assert converged([[1, 2, 3], [0, 0, 0]], [[0, 0, 0], [1, 2 ,3]]) == False"
   ]
  },
  {
   "cell_type": "markdown",
   "metadata": {},
   "source": [
    "# Algorithm"
   ]
  },
  {
   "cell_type": "code",
   "execution_count": 19,
   "metadata": {
    "deletable": false,
    "nbgrader": {
     "checksum": "091ddb6287bf4222faff81063c6d6a98",
     "grade": false,
     "grade_id": "cell-c010e7a7a0d99dd8",
     "locked": false,
     "schema_version": 1,
     "solution": true
    }
   },
   "outputs": [],
   "source": [
    "def kmeans(points, k, distance=distance):\n",
    "    \"\"\"Cluster points into k clusters based on distance.\"\"\"\n",
    "    # YOUR CODE HERE\n",
    "    # raise NotImplementedError()\n",
    "    # init\n",
    "    current = initialize(points, k)\n",
    "    proposed = recompute(points, reassign(points, current))\n",
    "    n_it = 0\n",
    "    while (not converged(current, proposed)) and n_it<10000000:\n",
    "        current = proposed\n",
    "        proposed = recompute(points, reassign(points, current))\n",
    "        n_it += 1\n",
    "        \n",
    "    return reassign(points, current)"
   ]
  },
  {
   "cell_type": "code",
   "execution_count": 20,
   "metadata": {
    "deletable": false,
    "editable": false,
    "nbgrader": {
     "checksum": "561072114f72d32ad4aa735097166766",
     "grade": true,
     "grade_id": "cell-fb6e6a88a1e01eed",
     "locked": true,
     "points": 4,
     "schema_version": 1,
     "solution": false
    }
   },
   "outputs": [
    {
     "data": {
      "image/png": "[encoded data removed]",
      "text/plain": [
       "<Figure size 432x288 with 1 Axes>"
      ]
     },
     "metadata": {
      "needs_background": "light"
     },
     "output_type": "display_data"
    }
   ],
   "source": [
    "labels = kmeans(X.tolist(), 3)\n",
    "\n",
    "# cluster points should have the same color\n",
    "plt.scatter(X[:, 0], X[:, 1], c=labels, s=30)\n",
    "assert adjusted_rand_score(labels, y) == 1.0"
   ]
  },
  {
   "cell_type": "code",
   "execution_count": 21,
   "metadata": {
    "deletable": false,
    "editable": false,
    "nbgrader": {
     "checksum": "ea2208f17902e1d28380f20caf2d8b03",
     "grade": true,
     "grade_id": "cell-e4185aef7bb742b7",
     "locked": true,
     "points": 3,
     "schema_version": 1,
     "solution": false
    }
   },
   "outputs": [],
   "source": [
    "# DO NOT REMOVE THIS CELL"
   ]
  },
  {
   "cell_type": "code",
   "execution_count": 22,
   "metadata": {
    "deletable": false,
    "editable": false,
    "nbgrader": {
     "checksum": "ef3c933e1642d5c5a05f90a667082658",
     "grade": true,
     "grade_id": "cell-076af6e85bd47ad6",
     "locked": true,
     "points": 3,
     "schema_version": 1,
     "solution": false
    }
   },
   "outputs": [],
   "source": [
    "# DO NOT REMOVE THIS CELL"
   ]
  }
 ],
 "metadata": {
  "hide_input": false,
  "kernelspec": {
   "display_name": "Python 3",
   "language": "python",
   "name": "python3"
  },
  "language_info": {
   "codemirror_mode": {
    "name": "ipython",
    "version": 3
   },
   "file_extension": ".py",
   "mimetype": "text/x-python",
   "name": "python",
   "nbconvert_exporter": "python",
   "pygments_lexer": "ipython3",
   "version": "3.6.6"
  }
 },
 "nbformat": 4,
 "nbformat_minor": 2
}
