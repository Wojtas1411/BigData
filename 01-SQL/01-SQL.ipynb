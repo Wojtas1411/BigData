{
 "cells": [
  {
   "cell_type": "markdown",
   "metadata": {
    "deletable": false,
    "editable": false,
    "nbgrader": {
     "checksum": "955e0494ed2a33fe14a2de6e8539fda7",
     "grade": false,
     "grade_id": "cell-68eef9ac5b325521",
     "locked": true,
     "schema_version": 1,
     "solution": false
    }
   },
   "source": [
    "# Tutorial 01: SQL"
   ]
  },
  {
   "cell_type": "markdown",
   "metadata": {
    "deletable": false,
    "editable": false,
    "nbgrader": {
     "checksum": "d5bf38258caa593bd58bd0cf26d086e6",
     "grade": false,
     "grade_id": "cell-7919bf532b89719d",
     "locked": true,
     "schema_version": 1,
     "solution": false
    }
   },
   "source": [
    "**The goal of this tutorial is to answer 20 questions about movies using SQL queries.**\n",
    "\n",
    "The database is stored on a SQLite file and populated from a subset of IMDB datasets.\n",
    "\n",
    "The schema is the same as on the website, except table 'crew' is split into 2 tables:\n",
    "- _directors_: tconst / nconst\n",
    "- _writers_: tconst / nconst\n",
    "\n",
    "Note that you should not order your results if the question does not mention it.\n",
    "\n",
    "__Grade Scale__: 20 points\n",
    "* correct answer: 1 point\n",
    "* incorrect answer: 0 point\n",
    "\n",
    "__Further documentations__:\n",
    "\n",
    "* https://www.imdb.com/interfaces/\n",
    "* http://www.tutorialspoint.com/sqlite/\n",
    "* https://learnxinyminutes.com/docs/python/\n",
    "* https://docs.python.org/3/library/sqlite3.html\n",
    "* https://www.dataquest.io/blog/jupyter-notebook-tutorial/"
   ]
  },
  {
   "cell_type": "markdown",
   "metadata": {
    "deletable": false,
    "editable": false,
    "nbgrader": {
     "checksum": "cdb840e1fa9a5b15a4dc888a92914701",
     "grade": false,
     "grade_id": "cell-217e8738287f37e0",
     "locked": true,
     "schema_version": 1,
     "solution": false
    }
   },
   "source": [
    "# Core"
   ]
  },
  {
   "cell_type": "code",
   "execution_count": 2,
   "metadata": {},
   "outputs": [],
   "source": [
    "# import sqlite from standard library\n",
    "import sqlite3\n",
    "\n",
    "# initialize a connection to the database\n",
    "DB = sqlite3.connect(\"imdb.sqlite\")\n",
    "\n",
    "# create a helper function to execute a query\n",
    "def Q(query):\n",
    "    \"\"\"Return the first 50 rows from a query.\"\"\"\n",
    "    return DB.execute(query).fetchmany(50)"
   ]
  },
  {
   "cell_type": "markdown",
   "metadata": {
    "deletable": false,
    "editable": false,
    "nbgrader": {
     "checksum": "393937d102c0b887a6ae8406f4ab447f",
     "grade": false,
     "grade_id": "cell-e8b698bd44783567",
     "locked": true,
     "schema_version": 1,
     "solution": false
    }
   },
   "source": [
    "# Examples"
   ]
  },
  {
   "cell_type": "code",
   "execution_count": 3,
   "metadata": {},
   "outputs": [
    {
     "data": {
      "text/plain": [
       "[(12609,)]"
      ]
     },
     "execution_count": 3,
     "metadata": {},
     "output_type": "execute_result"
    }
   ],
   "source": [
    "# count the number of persons\n",
    "Q(\"SELECT COUNT(*) from names\")"
   ]
  },
  {
   "cell_type": "code",
   "execution_count": 4,
   "metadata": {},
   "outputs": [
    {
     "data": {
      "text/plain": [
       "[('Buster Keaton',),\n",
       " ('Edward G. Robinson',),\n",
       " ('Max Steiner',),\n",
       " ('Charles Chaplin',),\n",
       " ('Robert Ellis',),\n",
       " ('John Ford',),\n",
       " ('D.W. Griffith',),\n",
       " ('Fritz Lang',),\n",
       " ('Bela Lugosi',),\n",
       " ('Edgar Allan Poe',)]"
      ]
     },
     "execution_count": 4,
     "metadata": {},
     "output_type": "execute_result"
    }
   ],
   "source": [
    "# return the name of the first 10 actors\n",
    "Q(\"SELECT primaryName FROM names LIMIT 10\")"
   ]
  },
  {
   "cell_type": "code",
   "execution_count": 5,
   "metadata": {},
   "outputs": [
    {
     "data": {
      "text/plain": [
       "[('Miss Jerry', 'Alexander Black'),\n",
       " ('Awakening of Rip', 'Washington Irving'),\n",
       " ('Exit of Rip and the Dwarf', 'Washington Irving'),\n",
       " ('The House of the Devil', 'Georges Méliès'),\n",
       " ('Rip Leaving Sleepy Hollow', 'Washington Irving'),\n",
       " ('Rip Meeting the Dwarf', 'Washington Irving'),\n",
       " ('Rip Passing Over the Mountain', 'Washington Irving'),\n",
       " (\"Rip's Toast\", 'Washington Irving'),\n",
       " (\"Rip's Toast to Hudson\", 'Washington Irving'),\n",
       " (\"Rip's Twenty Years' Sleep\", 'Washington Irving')]"
      ]
     },
     "execution_count": 5,
     "metadata": {},
     "output_type": "execute_result"
    }
   ],
   "source": [
    "# use triple-quote to execute a long query\n",
    "Q(\"\"\"\n",
    "SELECT m.primaryTitle, n.primaryName\n",
    "FROM writers as w\n",
    "INNER JOIN names AS n on w.nconst = n.nconst\n",
    "INNER JOIN basics AS m ON w.tconst = m.tconst\n",
    "LIMIT 10\n",
    "\"\"\")"
   ]
  },
  {
   "cell_type": "code",
   "execution_count": 95,
   "metadata": {},
   "outputs": [
    {
     "data": {
      "text/plain": [
       "[(0, 'nconst', 'TEXT', 1, None, 1),\n",
       " (1, 'primaryName', 'TEXT', 1, None, 0),\n",
       " (2, 'birthYear', 'INTEGER', 0, None, 0),\n",
       " (3, 'deathYear', 'INTEGER', 0, None, 0),\n",
       " (4, 'primaryProfession', 'TEXT', 1, None, 0),\n",
       " (5, 'knownForTitles', 'TEXT', 0, None, 0)]"
      ]
     },
     "execution_count": 95,
     "metadata": {},
     "output_type": "execute_result"
    }
   ],
   "source": [
    "# if an exception occurs, don't panic !\n",
    "# read the error message, find the cause and fix the query\n",
    "# in this case, the table 'movies' does not exist, use 'basics' instead\n",
    "\n",
    "# uncomment to see the error\n",
    "# Q(\"SELECT * FROM movies;\")\n",
    "#Q(\"select * from directors\")\n",
    "#Q(\"select * from writers\")\n",
    "Q(\"select name from sqlite_master where type = 'table'\")\n",
    "Q(\"pragma table_info(names)\")"
   ]
  },
  {
   "cell_type": "markdown",
   "metadata": {},
   "source": [
    "**This diagram shows the structure of a SELECT statement.**\n",
    "\n",
    "Find more at this address: https://www.sqlite.org/lang_select.html\n",
    "\n",
    "![SELECT](https://www.sqlite.org/images/syntax/select-stmt.gif)"
   ]
  },
  {
   "cell_type": "markdown",
   "metadata": {
    "deletable": false,
    "editable": false,
    "nbgrader": {
     "checksum": "9f7e7e2d75f9f1f0d1c9beabd407ecb2",
     "grade": false,
     "grade_id": "cell-b95e075db09f6692",
     "locked": true,
     "schema_version": 1,
     "solution": false
    }
   },
   "source": [
    "# QUESTIONS"
   ]
  },
  {
   "cell_type": "markdown",
   "metadata": {
    "deletable": false,
    "editable": false,
    "nbgrader": {
     "checksum": "7042015288d38d33e3a2a60701031014",
     "grade": false,
     "grade_id": "cell-bcac901263109950",
     "locked": true,
     "schema_version": 1,
     "solution": false
    }
   },
   "source": [
    "__1. How many movies does the database contain ?__ \n",
    "- _hint: use the COUNT operator in the SELECT clause_"
   ]
  },
  {
   "cell_type": "code",
   "execution_count": 8,
   "metadata": {
    "deletable": false,
    "nbgrader": {
     "checksum": "b0effe35d4cdcfa2a8430b0469ad104e",
     "grade": false,
     "grade_id": "cell-72d74476f5d31c30",
     "locked": false,
     "schema_version": 1,
     "solution": true
    }
   },
   "outputs": [
    {
     "data": {
      "text/plain": [
       "[(9868,)]"
      ]
     },
     "execution_count": 8,
     "metadata": {},
     "output_type": "execute_result"
    }
   ],
   "source": [
    "def Q1():\n",
    "    # YOUR CODE HERE\n",
    "    return Q(\"SELECT COUNT(*) FROM basics\")\n",
    "    #raise NotImplementedError()\n",
    "\n",
    "Q1()"
   ]
  },
  {
   "cell_type": "code",
   "execution_count": 9,
   "metadata": {
    "deletable": false,
    "editable": false,
    "nbgrader": {
     "checksum": "e22e5dff3cd022663eae5eca8a67ddbb",
     "grade": true,
     "grade_id": "cell-8a1ed4b999dd3ced",
     "locked": true,
     "points": 1,
     "schema_version": 1,
     "solution": false
    }
   },
   "outputs": [],
   "source": [
    "assert len(Q1()) == 1  # has 1 row\n",
    "assert len(Q1()[0]) == 1  # has 1 column"
   ]
  },
  {
   "cell_type": "markdown",
   "metadata": {},
   "source": [
    "__2. What is the longest movie ?__\n",
    "- _hint: use another operator than COUNT_"
   ]
  },
  {
   "cell_type": "code",
   "execution_count": 16,
   "metadata": {
    "deletable": false,
    "nbgrader": {
     "checksum": "2893cd2fcc5356dfa26cca212e1b5559",
     "grade": false,
     "grade_id": "cell-d20606637a776d22",
     "locked": false,
     "schema_version": 1,
     "solution": true
    }
   },
   "outputs": [
    {
     "data": {
      "text/plain": [
       "[('The Hazards of Helen',)]"
      ]
     },
     "execution_count": 16,
     "metadata": {},
     "output_type": "execute_result"
    }
   ],
   "source": [
    "def Q2():\n",
    "    # YOUR CODE HERE\n",
    "    return Q(\"SELECT primaryTitle from basics where runtimeMinutes in(SELECT max(runtimeMinutes) from basics)\")\n",
    "    #raise NotImplementedError()\n",
    "\n",
    "Q2()"
   ]
  },
  {
   "cell_type": "code",
   "execution_count": 17,
   "metadata": {
    "deletable": false,
    "editable": false,
    "nbgrader": {
     "checksum": "c3ffc345b7260d1f1d1736d30cfda10e",
     "grade": true,
     "grade_id": "cell-25b651f069724f72",
     "locked": true,
     "points": 1,
     "schema_version": 1,
     "solution": false
    }
   },
   "outputs": [],
   "source": [
    "assert len(Q2()) == 1  # has 1 row\n",
    "assert len(Q2()[0]) == 1  # has 1 column"
   ]
  },
  {
   "cell_type": "markdown",
   "metadata": {
    "deletable": false,
    "editable": false,
    "nbgrader": {
     "checksum": "21e3e681c3f64de18245cd31fc9e34e1",
     "grade": false,
     "grade_id": "cell-6d730c4ddabf9d51",
     "locked": true,
     "schema_version": 1,
     "solution": false
    }
   },
   "source": [
    "__3. What is the average number of vote per rating ?__\n",
    "- _hint: use yet another operator than COUNT_"
   ]
  },
  {
   "cell_type": "code",
   "execution_count": 19,
   "metadata": {
    "deletable": false,
    "nbgrader": {
     "checksum": "4acf89800735f26ae7212dc36d458ec8",
     "grade": false,
     "grade_id": "cell-b8e9f778a1d4021d",
     "locked": false,
     "schema_version": 1,
     "solution": true
    }
   },
   "outputs": [
    {
     "data": {
      "text/plain": [
       "[(213.1224770642202,)]"
      ]
     },
     "execution_count": 19,
     "metadata": {},
     "output_type": "execute_result"
    }
   ],
   "source": [
    "def Q3():\n",
    "    # YOUR CODE HERE\n",
    "    return Q(\"select avg(numVotes) from ratings\")\n",
    "    #raise NotImplementedError()\n",
    "\n",
    "Q3()"
   ]
  },
  {
   "cell_type": "code",
   "execution_count": 20,
   "metadata": {
    "deletable": false,
    "editable": false,
    "nbgrader": {
     "checksum": "8ced8da3b4bfb6f336bb60666ec0fb13",
     "grade": true,
     "grade_id": "cell-190e371ad3d26eb4",
     "locked": true,
     "points": 1,
     "schema_version": 1,
     "solution": false
    }
   },
   "outputs": [],
   "source": [
    "assert len(Q3()) == 1  # has 1 row\n",
    "assert len(Q3()[0]) == 1  # has 1 column"
   ]
  },
  {
   "cell_type": "markdown",
   "metadata": {
    "deletable": false,
    "editable": false,
    "nbgrader": {
     "checksum": "2dfcf8c3301ed479e0ecf9c0dc28512c",
     "grade": false,
     "grade_id": "cell-56ae9a29ec379af9",
     "locked": true,
     "schema_version": 1,
     "solution": false
    }
   },
   "source": [
    "__4. What are the primary title and start year of the first 10 movies ?__\n",
    "- _hint: use the LIMIT clause to return a fix number of row_"
   ]
  },
  {
   "cell_type": "code",
   "execution_count": 21,
   "metadata": {
    "deletable": false,
    "nbgrader": {
     "checksum": "7d1b0d4e2fde13a40cdf3a3ba516244e",
     "grade": false,
     "grade_id": "cell-842f6f5e611175c3",
     "locked": false,
     "schema_version": 1,
     "solution": true
    }
   },
   "outputs": [
    {
     "data": {
      "text/plain": [
       "[('Carmencita', 1894),\n",
       " ('Le clown et ses chiens', 1892),\n",
       " ('Pauvre Pierrot', 1892),\n",
       " ('Un bon bock', 1892),\n",
       " ('Blacksmith Scene', 1893),\n",
       " ('Chinese Opium Den', 1894),\n",
       " ('Corbett and Courtney Before the Kinetograph', 1894),\n",
       " ('Edison Kinetoscopic Record of a Sneeze', 1894),\n",
       " ('Miss Jerry', 1894),\n",
       " ('Employees Leaving the Lumière Factory', 1895)]"
      ]
     },
     "execution_count": 21,
     "metadata": {},
     "output_type": "execute_result"
    }
   ],
   "source": [
    "def Q4():\n",
    "    # YOUR CODE HERE\n",
    "    return Q(\"Select primaryTitle, startyear from basics limit 10\")\n",
    "    #raise NotImplementedError()\n",
    "\n",
    "Q4()"
   ]
  },
  {
   "cell_type": "code",
   "execution_count": 22,
   "metadata": {
    "deletable": false,
    "editable": false,
    "nbgrader": {
     "checksum": "36f3a0ad912d0368dc22e1b5b832d93a",
     "grade": true,
     "grade_id": "cell-acd34739c8644a49",
     "locked": true,
     "points": 1,
     "schema_version": 1,
     "solution": false
    }
   },
   "outputs": [],
   "source": [
    "assert len(Q4()) == 10  # has 10 rows\n",
    "assert all(len(row) == 2 for row in Q4())  # has 2 column per row (primary title, start year)"
   ]
  },
  {
   "cell_type": "markdown",
   "metadata": {
    "deletable": false,
    "editable": false,
    "nbgrader": {
     "checksum": "870130aa1793516e6860c037d6cabae7",
     "grade": false,
     "grade_id": "cell-e8fc6dd13c6e1c1a",
     "locked": true,
     "schema_version": 1,
     "solution": false
    }
   },
   "source": [
    "__5. Which distinct title language are available (in the akas table) ?__\n",
    "- _hint: use the DISTINCT operator to remove duplicates from results_"
   ]
  },
  {
   "cell_type": "code",
   "execution_count": 23,
   "metadata": {
    "deletable": false,
    "nbgrader": {
     "checksum": "8ac323c03b31ba8422bcee76bf6604b1",
     "grade": false,
     "grade_id": "cell-98b8a64488b5a289",
     "locked": false,
     "schema_version": 1,
     "solution": true
    }
   },
   "outputs": [
    {
     "data": {
      "text/plain": [
       "[(None,),\n",
       " ('sv',),\n",
       " ('en',),\n",
       " ('tr',),\n",
       " ('es',),\n",
       " ('sr',),\n",
       " ('cs',),\n",
       " ('fa',),\n",
       " ('fr',),\n",
       " ('bg',),\n",
       " ('ca',),\n",
       " ('nl',),\n",
       " ('qbn',),\n",
       " ('pt',),\n",
       " ('ru',)]"
      ]
     },
     "execution_count": 23,
     "metadata": {},
     "output_type": "execute_result"
    }
   ],
   "source": [
    "def Q5():\n",
    "    # YOUR CODE HERE\n",
    "    return Q(\"select distinct language from akas\" )\n",
    "    #raise NotImplementedError()\n",
    "\n",
    "Q5()"
   ]
  },
  {
   "cell_type": "code",
   "execution_count": 24,
   "metadata": {
    "deletable": false,
    "editable": false,
    "nbgrader": {
     "checksum": "b8424f0fbe06866ae0cf5bae3830dd91",
     "grade": true,
     "grade_id": "cell-a8cf35d3c1c46b95",
     "locked": true,
     "points": 1,
     "schema_version": 1,
     "solution": false
    }
   },
   "outputs": [],
   "source": [
    "assert len(Q5()) == 15  # has 15 rows\n",
    "assert all(len(row) == 1 for row in Q5())  # has 1 column per row (language)"
   ]
  },
  {
   "cell_type": "markdown",
   "metadata": {
    "deletable": false,
    "editable": false,
    "nbgrader": {
     "checksum": "5df02209639f98f9d6f92b25b5461901",
     "grade": false,
     "grade_id": "cell-75c98157f8440d14",
     "locked": true,
     "schema_version": 1,
     "solution": false
    }
   },
   "source": [
    "__6. What are the 10 first distinct principals job sorted alphabetically (A -> Z)?__\n",
    "- _hint: use the ORDER BY clause to sort results in ascending order_ "
   ]
  },
  {
   "cell_type": "code",
   "execution_count": 27,
   "metadata": {
    "deletable": false,
    "nbgrader": {
     "checksum": "ce87e390712c0d61eba6a0988c65f0bf",
     "grade": false,
     "grade_id": "cell-9775027ca1ff4dde",
     "locked": false,
     "schema_version": 1,
     "solution": true
    }
   },
   "outputs": [
    {
     "data": {
      "text/plain": [
       "[(None,),\n",
       " ('English titles',),\n",
       " ('Gettysburg Address',),\n",
       " ('adaptation',),\n",
       " ('adaptation and scenario',),\n",
       " ('adaptation and titles',),\n",
       " ('adapted for the screen by',),\n",
       " (\"adapted from 'The Chink and the Child' by\",),\n",
       " ('adapted from his novel: \"The Clansman: An Historical Romance of the Ku Klux Klan\"',),\n",
       " ('adapted from the book: \"My Mamie Rose\"',)]"
      ]
     },
     "execution_count": 27,
     "metadata": {},
     "output_type": "execute_result"
    }
   ],
   "source": [
    "def Q6():\n",
    "    # YOUR CODE HERE\n",
    "    return Q(\"select distinct job from principals order by job asc limit 10\")\n",
    "    # raise NotImplementedError()\n",
    "\n",
    "Q6()"
   ]
  },
  {
   "cell_type": "code",
   "execution_count": 28,
   "metadata": {
    "deletable": false,
    "editable": false,
    "nbgrader": {
     "checksum": "7a20e4c07f6da17d57cb452863ffa4be",
     "grade": true,
     "grade_id": "cell-97068598a88c377e",
     "locked": true,
     "points": 1,
     "schema_version": 1,
     "solution": false
    }
   },
   "outputs": [],
   "source": [
    "assert len(Q6()) == 10  # has 10 rows\n",
    "assert all(len(row) == 1 for row in Q6())  # has 1 column per row (category)"
   ]
  },
  {
   "cell_type": "markdown",
   "metadata": {
    "deletable": false,
    "editable": false,
    "nbgrader": {
     "checksum": "7c75f5dfa8031b2720f8c1703973b010",
     "grade": false,
     "grade_id": "cell-66f5f4fcbd28610d",
     "locked": true,
     "schema_version": 1,
     "solution": false
    }
   },
   "source": [
    "__7. Which movies were started before 1895 (excluded) ?__\n",
    "- _hint: use the WHERE clause to filter results_"
   ]
  },
  {
   "cell_type": "code",
   "execution_count": 32,
   "metadata": {
    "deletable": false,
    "nbgrader": {
     "checksum": "a41e4883356c0ecd3d0bb65ad9f90d52",
     "grade": false,
     "grade_id": "cell-7dd681e77fd9111a",
     "locked": false,
     "schema_version": 1,
     "solution": true
    }
   },
   "outputs": [
    {
     "data": {
      "text/plain": [
       "[('Carmencita', 1894),\n",
       " ('Le clown et ses chiens', 1892),\n",
       " ('Pauvre Pierrot', 1892),\n",
       " ('Un bon bock', 1892),\n",
       " ('Blacksmith Scene', 1893),\n",
       " ('Chinese Opium Den', 1894),\n",
       " ('Corbett and Courtney Before the Kinetograph', 1894),\n",
       " ('Edison Kinetoscopic Record of a Sneeze', 1894),\n",
       " ('Miss Jerry', 1894),\n",
       " (\"Autour d'une cabine\", 1894)]"
      ]
     },
     "execution_count": 32,
     "metadata": {},
     "output_type": "execute_result"
    }
   ],
   "source": [
    "def Q7():\n",
    "    # YOUR CODE HERE\n",
    "    return Q(\"select primarytitle, startyear from basics where startyear<1895\")\n",
    "    #raise NotImplementedError()\n",
    "\n",
    "Q7()"
   ]
  },
  {
   "cell_type": "code",
   "execution_count": 33,
   "metadata": {
    "deletable": false,
    "editable": false,
    "nbgrader": {
     "checksum": "f40a832c27a065d16ce5aa2804e3cdb7",
     "grade": true,
     "grade_id": "cell-2247526b43b758cf",
     "locked": true,
     "points": 1,
     "schema_version": 1,
     "solution": false
    }
   },
   "outputs": [],
   "source": [
    "assert len(Q7()) == 10  # has 10 rows\n",
    "assert all(len(row) == 2 for row in Q7())  # has 2 columns per row (primarty title, start year)"
   ]
  },
  {
   "cell_type": "markdown",
   "metadata": {
    "deletable": false,
    "editable": false,
    "nbgrader": {
     "checksum": "bdbc9554eb53f198c6c5e40e098e6568",
     "grade": false,
     "grade_id": "cell-bc535e9341842877",
     "locked": true,
     "schema_version": 1,
     "solution": false
    }
   },
   "source": [
    "__8. Which persons were born after 1900 and died after 2000 (both excluded) ?__\n",
    "- _hint: use the AND operator to combine query conditions_"
   ]
  },
  {
   "cell_type": "code",
   "execution_count": 65,
   "metadata": {
    "deletable": false,
    "nbgrader": {
     "checksum": "8fe54a7231fc334ed7ba836387498788",
     "grade": false,
     "grade_id": "cell-079d57c9256bb04a",
     "locked": false,
     "schema_version": 1,
     "solution": true
    }
   },
   "outputs": [
    {
     "data": {
      "text/plain": [
       "[('Zoe Rae', 1910, 2006),\n",
       " ('True Boardman', 1909, 2003),\n",
       " ('Thelma Burns', 1910, 2004),\n",
       " ('William Davies', 1921, 2006),\n",
       " ('James Patrick Doyle', 1956, 2002),\n",
       " ('Mae Giraci', 1910, 2006),\n",
       " ('Helen Hawley', 1909, 2003),\n",
       " ('Peaches Jackson', 1913, 2002),\n",
       " ('Billy Jacobs', 1910, 2004),\n",
       " ('Joey Jacobs', 1914, 2003),\n",
       " ('Pat Moore', 1912, 2004),\n",
       " ('Joan Morgan', 1905, 2004),\n",
       " ('Marie Osborne', 1911, 2010),\n",
       " ('Rosa Rio', 1902, 2010),\n",
       " ('Georgie Stone', 1909, 2010),\n",
       " ('Vivian Tobin', 1902, 2002),\n",
       " ('Coy Watson', 1912, 2009),\n",
       " ('Irving Foy', 1908, 2003),\n",
       " ('Lizzie Ruge', 1911, 2007)]"
      ]
     },
     "execution_count": 65,
     "metadata": {},
     "output_type": "execute_result"
    }
   ],
   "source": [
    "def Q8():\n",
    "    # YOUR CODE HERE\n",
    "    return Q(\"select primaryname, birthyear, deathyear from names where deathyear>2000 and birthyear>1900\")\n",
    "    #raise NotImplementedError()\n",
    "\n",
    "Q8()"
   ]
  },
  {
   "cell_type": "code",
   "execution_count": 66,
   "metadata": {
    "deletable": false,
    "editable": false,
    "nbgrader": {
     "checksum": "57121360f3de5d9a8d5de96bda876363",
     "grade": true,
     "grade_id": "cell-a18e36853311f009",
     "locked": true,
     "points": 1,
     "schema_version": 1,
     "solution": false
    }
   },
   "outputs": [],
   "source": [
    "assert len(Q8()) == 19  # has 19 rows\n",
    "assert all(len(row) == 3 for row in Q8())  # has 3 columns per row (primary name, birth year, death year)"
   ]
  },
  {
   "cell_type": "markdown",
   "metadata": {
    "deletable": false,
    "editable": false,
    "nbgrader": {
     "checksum": "c9efe0af0a145cd47f08103f6757c353",
     "grade": false,
     "grade_id": "cell-88ddcc631415c545",
     "locked": true,
     "schema_version": 1,
     "solution": false
    }
   },
   "source": [
    "__9. What are the film titles associated to French (fr) and Dutch (nl) language ?__\n",
    "- _hint: use the OR operator to combine query conditions_"
   ]
  },
  {
   "cell_type": "code",
   "execution_count": 52,
   "metadata": {
    "deletable": false,
    "nbgrader": {
     "checksum": "2fc9ae198412529a1085659b46de432b",
     "grade": false,
     "grade_id": "cell-d147c72642c464cc",
     "locked": false,
     "schema_version": 1,
     "solution": true
    }
   },
   "outputs": [
    {
     "data": {
      "text/plain": [
       "[('Le vol du grand rapide', 'fr'),\n",
       " ('De roos van Salem', 'nl'),\n",
       " ('De rampzalige liefde van Algabert en Elisabeth van Rodenburg', 'nl'),\n",
       " ('Le diamant noir', 'fr'),\n",
       " ('La pie noire', 'fr'),\n",
       " ('Charlot boxeur', 'fr'),\n",
       " ('Un lâche', 'fr'),\n",
       " ('La ravageuse', 'fr'),\n",
       " ('Charlot vagabond', 'fr'),\n",
       " ('Derrière les coulisses', 'fr'),\n",
       " ('Le machiniste héberlué', 'fr'),\n",
       " ('Charlot machiniste', 'fr'),\n",
       " ('Le comte', 'fr'),\n",
       " (\"Le héros à l'échelle\", 'fr'),\n",
       " ('Le pompier', 'fr'),\n",
       " ('Le clochard', 'fr'),\n",
       " ('Charlot musicien', 'fr'),\n",
       " ('Le troubadour au violon', 'fr'),\n",
       " (\"L'évadé\", 'fr'),\n",
       " ('La Reine des Césars', 'fr'),\n",
       " ('Le policeman', 'fr'),\n",
       " ('Charlot policier', 'fr'),\n",
       " (\"Charlot ne s'en fait pas\", 'fr'),\n",
       " ('Charlot voyage', 'fr'),\n",
       " ('Dageraad...', 'nl'),\n",
       " ('Une vie de chien', 'fr'),\n",
       " ('Haar overwinning', 'nl'),\n",
       " ('Haar groot avontuur', 'nl'),\n",
       " ('Poppéa', 'fr'),\n",
       " ('Gallagher poing-nu', 'fr')]"
      ]
     },
     "execution_count": 52,
     "metadata": {},
     "output_type": "execute_result"
    }
   ],
   "source": [
    "def Q9():\n",
    "    # YOUR CODE HERE\n",
    "    return Q(\"select title, language from akas where language = 'fr' or language = 'nl'\")\n",
    "    # raise NotImplementedError()\n",
    "\n",
    "Q9()"
   ]
  },
  {
   "cell_type": "code",
   "execution_count": 53,
   "metadata": {
    "deletable": false,
    "editable": false,
    "nbgrader": {
     "checksum": "eded6291e2ed11827e6dce7d648066fc",
     "grade": true,
     "grade_id": "cell-b350102bd1207fae",
     "locked": true,
     "points": 1,
     "schema_version": 1,
     "solution": false
    }
   },
   "outputs": [],
   "source": [
    "assert len(Q9()) == 30  # has 30 rows\n",
    "assert all(len(row) == 2 for row in Q9())  # has 2 columns per row (title, language)"
   ]
  },
  {
   "cell_type": "markdown",
   "metadata": {
    "deletable": false,
    "editable": false,
    "nbgrader": {
     "checksum": "d66acc299849c54909952ba7b5cfb7e6",
     "grade": false,
     "grade_id": "cell-e7e6fdd7438a3b9c",
     "locked": true,
     "schema_version": 1,
     "solution": false
    }
   },
   "source": [
    "__10. What are the number of votes associated to the first 10 movies ?__\n",
    "- _hint: use the INNER JOIN clause to combine table columns_"
   ]
  },
  {
   "cell_type": "code",
   "execution_count": 58,
   "metadata": {
    "deletable": false,
    "nbgrader": {
     "checksum": "4c231e67079a74e432a83f9233dfe823",
     "grade": false,
     "grade_id": "cell-51239201bb4b2682",
     "locked": false,
     "schema_version": 1,
     "solution": true
    }
   },
   "outputs": [
    {
     "data": {
      "text/plain": [
       "[('Carmencita', 1412),\n",
       " ('Le clown et ses chiens', 166),\n",
       " ('Pauvre Pierrot', 1005),\n",
       " ('Un bon bock', 99),\n",
       " ('Blacksmith Scene', 1706),\n",
       " ('Chinese Opium Den', 87),\n",
       " ('Corbett and Courtney Before the Kinetograph', 568),\n",
       " ('Edison Kinetoscopic Record of a Sneeze', 1516),\n",
       " ('Miss Jerry', 68),\n",
       " ('Employees Leaving the Lumière Factory', 5056)]"
      ]
     },
     "execution_count": 58,
     "metadata": {},
     "output_type": "execute_result"
    }
   ],
   "source": [
    "def Q10():\n",
    "    # YOUR CODE HERE\n",
    "    return Q(\"select primaryTitle, numVotes from basics inner join ratings using(tconst) limit 10\")\n",
    "    #raise NotImplementedError()\n",
    "\n",
    "Q10()"
   ]
  },
  {
   "cell_type": "code",
   "execution_count": 67,
   "metadata": {
    "deletable": false,
    "editable": false,
    "nbgrader": {
     "checksum": "e2f6fc56135b86a112ecb0f7a219203a",
     "grade": true,
     "grade_id": "cell-5a527aa22949cf55",
     "locked": true,
     "points": 1,
     "schema_version": 1,
     "solution": false
    }
   },
   "outputs": [],
   "source": [
    "assert len(Q10()) == 10  # has 10 rows\n",
    "assert all(len(row) == 2 for row in Q10())  # has 2 columns per row (primary title, number of votes)"
   ]
  },
  {
   "cell_type": "markdown",
   "metadata": {
    "deletable": false,
    "editable": false,
    "nbgrader": {
     "checksum": "c48af1e814aefa71a292c111e3e17f3d",
     "grade": false,
     "grade_id": "cell-3a0275f72bc0c2df",
     "locked": true,
     "schema_version": 1,
     "solution": false
    }
   },
   "source": [
    "__11. What are the director, movie name and runtime of the first 10 movies whose runtime > 120 ?__\n",
    "- _hint: you should combine INNER JOIN and WHERE clauses_"
   ]
  },
  {
   "cell_type": "code",
   "execution_count": 70,
   "metadata": {
    "deletable": false,
    "nbgrader": {
     "checksum": "99711ce5139a5d78e4e697a1cb53a100",
     "grade": false,
     "grade_id": "cell-70198a5ed000178b",
     "locked": false,
     "schema_version": 1,
     "solution": true
    }
   },
   "outputs": [
    {
     "data": {
      "text/plain": [
       "[('August Blom', 'Atlantis', 121),\n",
       " ('Albert Capellani', 'Germinal; or, The Toll of Labor', 150),\n",
       " ('Albert Capellani', 'Les Misérables, Part 2: Fantine', 300),\n",
       " ('Arthur V. Johnson', 'The Beloved Adventurer', 450),\n",
       " ('Giovanni Pastrone', 'Cabiria', 148),\n",
       " ('Leo D. Maloney', 'The Hazards of Helen', 1428),\n",
       " ('Paul Hurst', 'The Hazards of Helen', 1428),\n",
       " ('Robert G. Vignola', 'The Hazards of Helen', 1428),\n",
       " ('J.P. McGowan', 'The Hazards of Helen', 1428),\n",
       " ('J. Gunnis Davis', 'The Hazards of Helen', 1428)]"
      ]
     },
     "execution_count": 70,
     "metadata": {},
     "output_type": "execute_result"
    }
   ],
   "source": [
    "def Q11():\n",
    "    # YOUR CODE HERE\n",
    "    return Q('''select primaryname, primarytitle, runtimeMinutes \n",
    "                from basics inner join directors using(tconst) inner join names using(nconst) \n",
    "                where runtimeMinutes>120 limit 10''')\n",
    "    #raise NotImplementedError()\n",
    "\n",
    "Q11()"
   ]
  },
  {
   "cell_type": "code",
   "execution_count": 71,
   "metadata": {
    "deletable": false,
    "editable": false,
    "nbgrader": {
     "checksum": "8970eeaa8382cc5ed6acadc1d2ca029a",
     "grade": true,
     "grade_id": "cell-ec06aec698e82066",
     "locked": true,
     "points": 1,
     "schema_version": 1,
     "solution": false
    }
   },
   "outputs": [],
   "source": [
    "assert len(Q11()) == 10  # 10 rows\n",
    "assert all(len(row) == 3 for row in Q11())  # 3 columns per row (primary name, primary title, runtime in minutes)"
   ]
  },
  {
   "cell_type": "markdown",
   "metadata": {
    "deletable": false,
    "editable": false,
    "nbgrader": {
     "checksum": "5aea4c85f622878ec24de9c021c3378b",
     "grade": false,
     "grade_id": "cell-8c7b13b8403beadf",
     "locked": true,
     "schema_version": 1,
     "solution": false
    }
   },
   "source": [
    "__12. How many movies are identified as adult and how many as not adult ?__\n",
    "- _hint: use the GROUP BY clause to perform aggregation on groups_"
   ]
  },
  {
   "cell_type": "code",
   "execution_count": 73,
   "metadata": {
    "deletable": false,
    "nbgrader": {
     "checksum": "3eee616ae86cdaf60d680251edbed59b",
     "grade": false,
     "grade_id": "cell-82b09b833f364819",
     "locked": false,
     "schema_version": 1,
     "solution": true
    }
   },
   "outputs": [
    {
     "data": {
      "text/plain": [
       "[(0, 9868)]"
      ]
     },
     "execution_count": 73,
     "metadata": {},
     "output_type": "execute_result"
    }
   ],
   "source": [
    "def Q12():\n",
    "    # YOUR CODE HERE\n",
    "    return Q(\"select isAdult, count(isAdult) from basics group by isAdult\")\n",
    "    #raise NotImplementedError()\n",
    "\n",
    "Q12()"
   ]
  },
  {
   "cell_type": "code",
   "execution_count": 74,
   "metadata": {
    "deletable": false,
    "editable": false,
    "nbgrader": {
     "checksum": "5a0baf6505dd0adf03d9f21d645011ee",
     "grade": true,
     "grade_id": "cell-c54052956a99eb3e",
     "locked": true,
     "points": 1,
     "schema_version": 1,
     "solution": false
    }
   },
   "outputs": [],
   "source": [
    "assert len(Q12()) >= 1  # has at least 1 row\n",
    "assert all(len(row) == 2 for row in Q12())  # has 2 column per row (key, result)"
   ]
  },
  {
   "cell_type": "markdown",
   "metadata": {
    "deletable": false,
    "editable": false,
    "nbgrader": {
     "checksum": "0c65e28838a860baf750beb6df9afac2",
     "grade": false,
     "grade_id": "cell-8789b1cd95a47af4",
     "locked": true,
     "schema_version": 1,
     "solution": false
    }
   },
   "source": [
    "__13. Which birth years are associated to more than 200 persons (excluded) ?__\n",
    "- _hint: use the HAVING clause to filter aggregation result_"
   ]
  },
  {
   "cell_type": "code",
   "execution_count": 78,
   "metadata": {
    "deletable": false,
    "nbgrader": {
     "checksum": "673dc689b56142e00ece252919d7a4ea",
     "grade": false,
     "grade_id": "cell-e016cbee7a585cda",
     "locked": false,
     "schema_version": 1,
     "solution": true
    }
   },
   "outputs": [
    {
     "data": {
      "text/plain": [
       "[(1878, 201),\n",
       " (1880, 230),\n",
       " (1882, 209),\n",
       " (1884, 234),\n",
       " (1885, 237),\n",
       " (1886, 217),\n",
       " (1887, 204),\n",
       " (1888, 224),\n",
       " (1889, 243)]"
      ]
     },
     "execution_count": 78,
     "metadata": {},
     "output_type": "execute_result"
    }
   ],
   "source": [
    "def Q13():\n",
    "    # YOUR CODE HERE\n",
    "    return Q(\"select birthyear, count(*) a from names where birthyear is not null group by birthyear having a>200\")\n",
    "    #raise NotImplementedError()\n",
    "\n",
    "Q13()"
   ]
  },
  {
   "cell_type": "code",
   "execution_count": 79,
   "metadata": {
    "deletable": false,
    "editable": false,
    "nbgrader": {
     "checksum": "c1836e40709e98d903c1f8612cbf3c17",
     "grade": true,
     "grade_id": "cell-b58188849ca4ecbf",
     "locked": true,
     "points": 1,
     "schema_version": 1,
     "solution": false
    }
   },
   "outputs": [],
   "source": [
    "assert len(Q13()) == 9  # has 9 rows\n",
    "assert all(len(row) == 2 for row in Q13())  # has 2 columns per row (birth year, result)"
   ]
  },
  {
   "cell_type": "markdown",
   "metadata": {
    "deletable": false,
    "editable": false,
    "nbgrader": {
     "checksum": "be889486d0ca6c257303f0de91060a4b",
     "grade": false,
     "grade_id": "cell-b9aef990d2c81ed2",
     "locked": true,
     "schema_version": 1,
     "solution": false
    }
   },
   "source": [
    "__14. What are the minimum and maximum movie time per title type ?__\n",
    "- _hint: combine multiple aggregation operator in the SELECT clause_"
   ]
  },
  {
   "cell_type": "code",
   "execution_count": 43,
   "metadata": {
    "deletable": false,
    "nbgrader": {
     "checksum": "63cb750630752a16e0173c243623fc7c",
     "grade": false,
     "grade_id": "cell-3031191af92c7008",
     "locked": false,
     "schema_version": 1,
     "solution": true
    }
   },
   "outputs": [
    {
     "data": {
      "text/plain": [
       "[('movie', 5, 1428), ('short', 0, 51)]"
      ]
     },
     "execution_count": 43,
     "metadata": {},
     "output_type": "execute_result"
    }
   ],
   "source": [
    "def Q14():\n",
    "    # YOUR CODE HERE\n",
    "    return Q(\"select titleType, min(runtimeMinutes), max(runtimeMinutes)from basics group by titleType\")\n",
    "    #raise NotImplementedError()\n",
    "\n",
    "Q14()"
   ]
  },
  {
   "cell_type": "code",
   "execution_count": 44,
   "metadata": {
    "deletable": false,
    "editable": false,
    "nbgrader": {
     "checksum": "37b812e0396b04eaddd3774fee6a6cd7",
     "grade": true,
     "grade_id": "cell-bc0b389b1fcf55c2",
     "locked": true,
     "points": 1,
     "schema_version": 1,
     "solution": false
    }
   },
   "outputs": [],
   "source": [
    "assert len(Q14()) == 2  # has 2 rows\n",
    "assert all(len(row) == 3 for row in Q14())  # has 3 columns per row (title type, min runtime, max runtime)"
   ]
  },
  {
   "cell_type": "markdown",
   "metadata": {
    "deletable": false,
    "editable": false,
    "nbgrader": {
     "checksum": "c3bb9f320657d3246a3a574fab48fb56",
     "grade": false,
     "grade_id": "cell-58f096c9f52d03a8",
     "locked": true,
     "schema_version": 1,
     "solution": false
    }
   },
   "source": [
    "__15. What are the first 10 pair of person/movie with the same birth/start year, sorted by movie title ?__\n",
    "- _hint: find an appropriate condition for the INNER JOIN clause_"
   ]
  },
  {
   "cell_type": "code",
   "execution_count": 87,
   "metadata": {
    "deletable": false,
    "nbgrader": {
     "checksum": "e0e9114850c414202ea81eaffedd45e7",
     "grade": false,
     "grade_id": "cell-8d7e84740557029a",
     "locked": false,
     "schema_version": 1,
     "solution": true
    }
   },
   "outputs": [
    {
     "data": {
      "text/plain": [
       "[('Fay McKenzie', '$5,000 Reward'),\n",
       " ('William Anderson', '$5,000 Reward'),\n",
       " ('Ferenc Szécsi', \"'Arriet's Baby\"),\n",
       " ('Loretta Young', \"'Arriet's Baby\"),\n",
       " ('Marion Weldon', \"'Arriet's Baby\"),\n",
       " ('Martijn de Vries', \"'Arriet's Baby\"),\n",
       " ('Mary Jane Irving', \"'Arriet's Baby\"),\n",
       " ('Mildred May', \"'Arriet's Baby\"),\n",
       " ('Nancy Caswell', \"'Arriet's Baby\"),\n",
       " ('Peaches Jackson', \"'Arriet's Baby\")]"
      ]
     },
     "execution_count": 87,
     "metadata": {},
     "output_type": "execute_result"
    }
   ],
   "source": [
    "def Q15():\n",
    "    # YOUR CODE HERE\n",
    "    return Q(\"select primaryname, primarytitle from basics inner join names on birthyear == startyear order by primarytitle limit 10\")\n",
    "    #raise NotImplementedError()\n",
    "\n",
    "Q15()"
   ]
  },
  {
   "cell_type": "code",
   "execution_count": 88,
   "metadata": {
    "deletable": false,
    "editable": false,
    "nbgrader": {
     "checksum": "aeea85e6d67aec1d2570138743bbf802",
     "grade": true,
     "grade_id": "cell-cbfda7c337d98b73",
     "locked": true,
     "points": 1,
     "schema_version": 1,
     "solution": false
    }
   },
   "outputs": [],
   "source": [
    "assert len(Q15()) == 10  # has 10 rows\n",
    "assert all(len(row) == 2 for row in Q15())  # has 2 columns per row (primary name, primary title)"
   ]
  },
  {
   "cell_type": "markdown",
   "metadata": {
    "deletable": false,
    "editable": false,
    "nbgrader": {
     "checksum": "669a1c4d07037b6914a29ce54555e19c",
     "grade": false,
     "grade_id": "cell-c697a6adc568ade2",
     "locked": true,
     "schema_version": 1,
     "solution": false
    }
   },
   "source": [
    "__16. For which movie title does Harrison Ford is known for ordered by movie title ?__\n",
    "- _hint: don't spend too much time on this question if it is too hard_"
   ]
  },
  {
   "cell_type": "code",
   "execution_count": 96,
   "metadata": {
    "deletable": false,
    "nbgrader": {
     "checksum": "a80e78db0f6d9435fb096192b2bf52f8",
     "grade": false,
     "grade_id": "cell-59998e0034850d4e",
     "locked": false,
     "schema_version": 1,
     "solution": true
    }
   },
   "outputs": [
    {
     "data": {
      "text/plain": [
       "[('Harrison Ford', 'Excuse Me'),\n",
       " ('Harrison Ford', 'The Mysterious Mrs. Musslewhite')]"
      ]
     },
     "execution_count": 96,
     "metadata": {},
     "output_type": "execute_result"
    }
   ],
   "source": [
    "def Q16():\n",
    "    # YOUR CODE HERE\n",
    "    #return Q(\"select knownfortitles from names where primaryname = 'Harrison Ford'\")\n",
    "    return Q('''select primaryname, primarytitle from basics, names \n",
    "                where primaryname = 'Harrison Ford' and knownfortitles like '%'||tconst||'%' ''')\n",
    "\n",
    "Q16()"
   ]
  },
  {
   "cell_type": "code",
   "execution_count": 97,
   "metadata": {
    "deletable": false,
    "editable": false,
    "nbgrader": {
     "checksum": "8622c83f897c8200e44399fdab4be1c1",
     "grade": true,
     "grade_id": "cell-c4b77509af433302",
     "locked": true,
     "points": 1,
     "schema_version": 1,
     "solution": false
    }
   },
   "outputs": [],
   "source": [
    "assert len(Q16()) == 2  # has 2 rows\n",
    "assert all(len(row) == 2 for row in Q16())  # has 2 columns per row (primary name, primary title)"
   ]
  },
  {
   "cell_type": "markdown",
   "metadata": {
    "deletable": false,
    "editable": false,
    "nbgrader": {
     "checksum": "19279743e65b243366cb47c30b4e5ff6",
     "grade": false,
     "grade_id": "cell-af0d53734a4926a8",
     "locked": true,
     "schema_version": 1,
     "solution": false
    }
   },
   "source": [
    "__17. What are the first 10 movies that start with the letter W in descending order ?__\n",
    "- _hint: use the LIKE operator to perform text search_"
   ]
  },
  {
   "cell_type": "code",
   "execution_count": 39,
   "metadata": {
    "deletable": false,
    "nbgrader": {
     "checksum": "2b55c3b373b64ddc369aed36cc34872b",
     "grade": false,
     "grade_id": "cell-4e842df658751171",
     "locked": false,
     "schema_version": 1,
     "solution": true
    }
   },
   "outputs": [
    {
     "data": {
      "text/plain": [
       "[('Wrath of Love',),\n",
       " ('Wrath',),\n",
       " ('Wormwood',),\n",
       " ('Working Out with Police Dog',),\n",
       " ('Work',),\n",
       " ('Wooden Shoes',),\n",
       " ('Wonderful Mirrors',),\n",
       " ('Won in a Closet',),\n",
       " ('Won by a Fish',),\n",
       " (\"Women's Weapons\",)]"
      ]
     },
     "execution_count": 39,
     "metadata": {},
     "output_type": "execute_result"
    }
   ],
   "source": [
    "def Q17():\n",
    "    # YOUR CODE HERE\n",
    "    return Q(\"select primarytitle from basics where primarytitle like 'W%' order by primarytitle desc limit 10\")\n",
    "    #raise NotImplementedError()\n",
    "\n",
    "Q17()"
   ]
  },
  {
   "cell_type": "code",
   "execution_count": 40,
   "metadata": {
    "deletable": false,
    "editable": false,
    "nbgrader": {
     "checksum": "bdd8f724c5d499580f2bd4aac74ffe99",
     "grade": true,
     "grade_id": "cell-683b21ada0969103",
     "locked": true,
     "points": 1,
     "schema_version": 1,
     "solution": false
    }
   },
   "outputs": [],
   "source": [
    "assert len(Q17()) == 10  # has 10 rows\n",
    "assert all(len(row) == 1 for row in Q17())  # has 1 column per row (primary title)"
   ]
  },
  {
   "cell_type": "markdown",
   "metadata": {
    "deletable": false,
    "editable": false,
    "nbgrader": {
     "checksum": "03c2f7201542d754a2b6749077c3fa7b",
     "grade": false,
     "grade_id": "cell-52883ef22d355fba",
     "locked": true,
     "schema_version": 1,
     "solution": false
    }
   },
   "source": [
    "__18. How many persons are both writer and director ?__\n",
    "- _hint: use the INTERSECT operator to perform set intersection_"
   ]
  },
  {
   "cell_type": "code",
   "execution_count": 4,
   "metadata": {
    "deletable": false,
    "nbgrader": {
     "checksum": "ac2d485f5a40a1318933905723f1902d",
     "grade": false,
     "grade_id": "cell-e841d0d0e6d4f0dc",
     "locked": false,
     "schema_version": 1,
     "solution": true
    }
   },
   "outputs": [
    {
     "data": {
      "text/plain": [
       "[(575,)]"
      ]
     },
     "execution_count": 4,
     "metadata": {},
     "output_type": "execute_result"
    }
   ],
   "source": [
    "def Q18():\n",
    "    # YOUR CODE HERE\n",
    "    return Q(\"select count(*) from (select nconst from writers intersect select nconst from directors)\")\n",
    "    #raise NotImplementedError()\n",
    "\n",
    "Q18()"
   ]
  },
  {
   "cell_type": "code",
   "execution_count": 101,
   "metadata": {
    "deletable": false,
    "editable": false,
    "nbgrader": {
     "checksum": "4b74a49dde07a036fb850805c98af3a9",
     "grade": true,
     "grade_id": "cell-2b24dd67d4081ba5",
     "locked": true,
     "points": 1,
     "schema_version": 1,
     "solution": false
    }
   },
   "outputs": [],
   "source": [
    "assert len(Q18()) == 1  # has 1 row\n",
    "assert len(Q18()[0]) == 1  # has 1 column"
   ]
  },
  {
   "cell_type": "markdown",
   "metadata": {
    "deletable": false,
    "editable": false,
    "nbgrader": {
     "checksum": "8a676e28fe21825f6efe2e69fb21fc1d",
     "grade": false,
     "grade_id": "cell-cc94b9399c25006c",
     "locked": true,
     "schema_version": 1,
     "solution": false
    }
   },
   "source": [
    "__19. Concatenate and count the number of distinct primary profession (names) and distinct job (principals)__\n",
    "- _hint: use the UNION to concatenate two result sets_"
   ]
  },
  {
   "cell_type": "code",
   "execution_count": 99,
   "metadata": {
    "deletable": false,
    "nbgrader": {
     "checksum": "c557697ec3986edaae9a5551a16bfa15",
     "grade": false,
     "grade_id": "cell-94fd17af9ee0e427",
     "locked": false,
     "schema_version": 1,
     "solution": true
    }
   },
   "outputs": [
    {
     "data": {
      "text/plain": [
       "[(1201,)]"
      ]
     },
     "execution_count": 99,
     "metadata": {},
     "output_type": "execute_result"
    }
   ],
   "source": [
    "def Q19():\n",
    "    # YOUR CODE HERE\n",
    "    return Q(\"select count(*) from (select distinct primaryprofession from names union select distinct job from principals)\")#TODO\n",
    "    #raise NotImplementedError()\n",
    "\n",
    "Q19()"
   ]
  },
  {
   "cell_type": "code",
   "execution_count": 102,
   "metadata": {
    "deletable": false,
    "editable": false,
    "nbgrader": {
     "checksum": "6403baa039de6d50e8cb9cc4eaa3d43f",
     "grade": true,
     "grade_id": "cell-4de96c6ab960215e",
     "locked": true,
     "points": 1,
     "schema_version": 1,
     "solution": false
    }
   },
   "outputs": [],
   "source": [
    "assert len(Q19()) == 1  # has 1 row\n",
    "assert len(Q19()[0]) == 1  # has 1 column"
   ]
  },
  {
   "cell_type": "markdown",
   "metadata": {
    "deletable": false,
    "editable": false,
    "nbgrader": {
     "checksum": "c90b2e9118e756f8a3ee908caa261179",
     "grade": false,
     "grade_id": "cell-c860d630d3585aa1",
     "locked": true,
     "schema_version": 1,
     "solution": false
    }
   },
   "source": [
    "__20. How many directors are not writers ?__\n",
    "- _hint: use the EXCEPT operator to perform a difference on two result sets_"
   ]
  },
  {
   "cell_type": "code",
   "execution_count": 3,
   "metadata": {
    "deletable": false,
    "nbgrader": {
     "checksum": "af6c20cd05fc814678f8de43b4209d73",
     "grade": false,
     "grade_id": "cell-e22c8b6ebf0199e3",
     "locked": false,
     "schema_version": 1,
     "solution": true
    }
   },
   "outputs": [
    {
     "data": {
      "text/plain": [
       "[(557,)]"
      ]
     },
     "execution_count": 3,
     "metadata": {},
     "output_type": "execute_result"
    }
   ],
   "source": [
    "def Q20():\n",
    "    # YOUR CODE HERE\n",
    "    return Q(\"select count(*) from (select nconst from directors except select nconst from writers)\")\n",
    "    #raise NotImplementedError()\n",
    "\n",
    "Q20()"
   ]
  },
  {
   "cell_type": "code",
   "execution_count": 104,
   "metadata": {
    "deletable": false,
    "editable": false,
    "nbgrader": {
     "checksum": "2629de6201ace8b0f025167ee6dfabae",
     "grade": true,
     "grade_id": "cell-5dbb8567da6a84e2",
     "locked": true,
     "points": 1,
     "schema_version": 1,
     "solution": false
    }
   },
   "outputs": [],
   "source": [
    "assert len(Q20()) == 1  # has 1 row\n",
    "assert len(Q20()[0]) == 1  # has 1 column"
   ]
  }
 ],
 "metadata": {
  "hide_input": false,
  "kernelspec": {
   "display_name": "Python 3",
   "language": "python",
   "name": "python3"
  },
  "language_info": {
   "codemirror_mode": {
    "name": "ipython",
    "version": 3
   },
   "file_extension": ".py",
   "mimetype": "text/x-python",
   "name": "python",
   "nbconvert_exporter": "python",
   "pygments_lexer": "ipython3",
   "version": "3.6.6"
  }
 },
 "nbformat": 4,
 "nbformat_minor": 2
}
