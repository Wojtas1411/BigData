{
 "cells": [
  {
   "cell_type": "markdown",
   "metadata": {
    "deletable": false,
    "editable": false,
    "nbgrader": {
     "checksum": "c8f905f7f3366d92b7bee9af3015cc43",
     "grade": false,
     "grade_id": "cell-30e9a7c49790a0f2",
     "locked": true,
     "schema_version": 1,
     "solution": false
    }
   },
   "source": [
    "# Tutorial 7: The Language of the System"
   ]
  },
  {
   "cell_type": "markdown",
   "metadata": {
    "deletable": false,
    "editable": false,
    "nbgrader": {
     "checksum": "58a30f3adde06e38781209e6330e5abc",
     "grade": false,
     "grade_id": "cell-36912ea78749d08d",
     "locked": true,
     "schema_version": 1,
     "solution": false
    }
   },
   "source": [
    "__The goal of this assignment is to answer 10 questions related to [a talk on programming from Rich Hickey](https://youtu.be/ROor6_NGIWU).__\n",
    "\n",
    "I think this talk is important to develop your critical regard on the way to architecture large processing systems.\n",
    "\n",
    "I also hope this talk will open your mind on new programming constructs to support these architectures.\n",
    "\n",
    "**For each question, your function should return the number associated to the answer.**\n",
    "\n",
    "There is only one valid answer per question.\n",
    "\n",
    "**Example: What is the sound of a dog ?**\n",
    "1. meow\n",
    "2. **woof**\n",
    "3. hoot\n",
    "4. honk\n",
    "\n",
    "```python\n",
    "def Q0():\n",
    "    return 2\n",
    "```\n",
    "\n",
    "__Grade scale__: 10 points\n",
    "- __correct answer__: 1 points\n",
    "- __incorrect answer__: 0 points"
   ]
  },
  {
   "cell_type": "code",
   "execution_count": 1,
   "metadata": {
    "deletable": false,
    "editable": false,
    "nbgrader": {
     "checksum": "c4aaa37e03ae52ab827ce33ba268f891",
     "grade": false,
     "grade_id": "cell-bf66d961f8334e8e",
     "locked": true,
     "schema_version": 1,
     "solution": false
    }
   },
   "outputs": [
    {
     "data": {
      "text/html": [
       "<iframe width=\"980\" height=\"600\" src=\"https://www.youtube.com/embed/ROor6_NGIWU\" frameborder=\"0\"></iframe>"
      ],
      "text/plain": [
       "<IPython.core.display.HTML object>"
      ]
     },
     "execution_count": 1,
     "metadata": {},
     "output_type": "execute_result"
    }
   ],
   "source": [
    "from IPython.display import HTML\n",
    "\n",
    "HTML('<iframe width=\"980\" height=\"600\" src=\"https://www.youtube.com/embed/ROor6_NGIWU\" frameborder=\"0\"></iframe>')"
   ]
  },
  {
   "cell_type": "markdown",
   "metadata": {
    "deletable": false,
    "editable": false,
    "nbgrader": {
     "checksum": "ffeaa5883b82a0311a6558e510c72510",
     "grade": false,
     "grade_id": "cell-cbca6f7bfb85d807",
     "locked": true,
     "schema_version": 1,
     "solution": false
    }
   },
   "source": [
    "# Questions"
   ]
  },
  {
   "cell_type": "markdown",
   "metadata": {
    "deletable": false,
    "editable": false,
    "nbgrader": {
     "checksum": "168afc51e9e8b04c25bf85693d5e4eeb",
     "grade": false,
     "grade_id": "cell-0c90b835dbcffeca",
     "locked": true,
     "schema_version": 1,
     "solution": false
    }
   },
   "source": [
    "__1. Why does a programmer write a program ?__\n",
    "1. To affect the world outside of the program\n",
    "2. To create a problem for someone else\n",
    "3. To generate heat from a computer\n",
    "4. To provide the answer to life"
   ]
  },
  {
   "cell_type": "code",
   "execution_count": 2,
   "metadata": {
    "deletable": false,
    "nbgrader": {
     "checksum": "9fcf5545ae9d57915a271a33e1420325",
     "grade": false,
     "grade_id": "cell-af420023b7676ec1",
     "locked": false,
     "schema_version": 1,
     "solution": true
    }
   },
   "outputs": [
    {
     "data": {
      "text/plain": [
       "1"
      ]
     },
     "execution_count": 2,
     "metadata": {},
     "output_type": "execute_result"
    }
   ],
   "source": [
    "def Q1():\n",
    "    # YOUR CODE HERE\n",
    "    # raise NotImplementedError()\n",
    "    return 1\n",
    "\n",
    "Q1()"
   ]
  },
  {
   "cell_type": "code",
   "execution_count": 3,
   "metadata": {
    "deletable": false,
    "editable": false,
    "nbgrader": {
     "checksum": "3e7e6775dda049b4d4eaccbc6a17fc3c",
     "grade": true,
     "grade_id": "cell-38b42e490724ca6d",
     "locked": true,
     "points": 1,
     "schema_version": 1,
     "solution": false
    }
   },
   "outputs": [],
   "source": [
    "assert isinstance(Q1(), int)"
   ]
  },
  {
   "cell_type": "markdown",
   "metadata": {
    "deletable": false,
    "editable": false,
    "nbgrader": {
     "checksum": "ca59b19d1008d210e672c012a632f889",
     "grade": false,
     "grade_id": "cell-ce65452c27ac2f2f",
     "locked": true,
     "schema_version": 1,
     "solution": false
    }
   },
   "source": [
    "__2. What is a system ?__\n",
    "1. Language + Runtime\n",
    "2. An ensemble of programs\n",
    "3. A program that stores data\n",
    "4. A program that manages resources"
   ]
  },
  {
   "cell_type": "code",
   "execution_count": 4,
   "metadata": {
    "deletable": false,
    "nbgrader": {
     "checksum": "3c42fd5a2b8082aec227bb2a03518c26",
     "grade": false,
     "grade_id": "cell-b969bb555ff6e41f",
     "locked": false,
     "schema_version": 1,
     "solution": true
    }
   },
   "outputs": [
    {
     "data": {
      "text/plain": [
       "2"
      ]
     },
     "execution_count": 4,
     "metadata": {},
     "output_type": "execute_result"
    }
   ],
   "source": [
    "def Q2():\n",
    "    # YOUR CODE HERE\n",
    "    # raise NotImplementedError()\n",
    "    return 2\n",
    "\n",
    "Q2()"
   ]
  },
  {
   "cell_type": "code",
   "execution_count": 5,
   "metadata": {
    "deletable": false,
    "editable": false,
    "nbgrader": {
     "checksum": "fe8877f0ee7d71dcf7d92208f80e1644",
     "grade": true,
     "grade_id": "cell-12c7bfa02b131299",
     "locked": true,
     "points": 1,
     "schema_version": 1,
     "solution": false
    }
   },
   "outputs": [],
   "source": [
    "assert isinstance(Q2(), int)"
   ]
  },
  {
   "cell_type": "markdown",
   "metadata": {
    "deletable": false,
    "editable": false,
    "nbgrader": {
     "checksum": "6ab3adabe0d9456238aa41368ab353f5",
     "grade": false,
     "grade_id": "cell-d708e6866bc861a8",
     "locked": true,
     "schema_version": 1,
     "solution": false
    }
   },
   "source": [
    "__3. Which item is NOT an exchange format ?__\n",
    "1. JSON\n",
    "2. Jupyter Notebook\n",
    "3. Protocol Buffer\n",
    "4. CORBA"
   ]
  },
  {
   "cell_type": "code",
   "execution_count": 6,
   "metadata": {
    "deletable": false,
    "nbgrader": {
     "checksum": "4f6ec4a0c26fe7e94af75b554ae274bd",
     "grade": false,
     "grade_id": "cell-4a5f68774ae2d9f4",
     "locked": false,
     "schema_version": 1,
     "solution": true
    }
   },
   "outputs": [
    {
     "data": {
      "text/plain": [
       "4"
      ]
     },
     "execution_count": 6,
     "metadata": {},
     "output_type": "execute_result"
    }
   ],
   "source": [
    "def Q3():\n",
    "    # YOUR CODE HERE\n",
    "    # raise NotImplementedError()\n",
    "    return 4\n",
    "\n",
    "Q3()"
   ]
  },
  {
   "cell_type": "code",
   "execution_count": 7,
   "metadata": {
    "deletable": false,
    "editable": false,
    "nbgrader": {
     "checksum": "1326eff6a8e2405853fe036a4c90fc57",
     "grade": true,
     "grade_id": "cell-d267f272cd2eca06",
     "locked": true,
     "points": 1,
     "schema_version": 1,
     "solution": false
    }
   },
   "outputs": [],
   "source": [
    "assert isinstance(Q3(), int)"
   ]
  },
  {
   "cell_type": "markdown",
   "metadata": {
    "deletable": false,
    "editable": false,
    "nbgrader": {
     "checksum": "1b839957162481a0edd1fd89b1071d77",
     "grade": false,
     "grade_id": "cell-56516fa49da508ce",
     "locked": true,
     "schema_version": 1,
     "solution": false
    }
   },
   "source": [
    "__4. What is false about system names ?__\n",
    "1. they are global\n",
    "2. they are reversed for functions/verbs\n",
    "3. they have a fully qualified namespace\n",
    "4. we fight to reserve them (e.g. on github)"
   ]
  },
  {
   "cell_type": "code",
   "execution_count": 8,
   "metadata": {
    "deletable": false,
    "nbgrader": {
     "checksum": "486e67a2f68171c0a89f38e725dcabf6",
     "grade": false,
     "grade_id": "cell-5151e01f60804944",
     "locked": false,
     "schema_version": 1,
     "solution": true
    }
   },
   "outputs": [
    {
     "data": {
      "text/plain": [
       "2"
      ]
     },
     "execution_count": 8,
     "metadata": {},
     "output_type": "execute_result"
    }
   ],
   "source": [
    "def Q4():\n",
    "    # YOUR CODE HERE\n",
    "    # raise NotImplementedError()\n",
    "    return 2\n",
    "\n",
    "Q4()"
   ]
  },
  {
   "cell_type": "code",
   "execution_count": 9,
   "metadata": {
    "deletable": false,
    "editable": false,
    "nbgrader": {
     "checksum": "72cf509c39435c529f85f0a01bd979ce",
     "grade": true,
     "grade_id": "cell-481746201e851626",
     "locked": true,
     "points": 1,
     "schema_version": 1,
     "solution": false
    }
   },
   "outputs": [],
   "source": [
    "assert isinstance(Q4(), int)"
   ]
  },
  {
   "cell_type": "markdown",
   "metadata": {
    "deletable": false,
    "editable": false,
    "nbgrader": {
     "checksum": "e3c0a3210733411687afe7747051bf45",
     "grade": false,
     "grade_id": "cell-f0f81e40ce77a867",
     "locked": true,
     "schema_version": 1,
     "solution": false
    }
   },
   "source": [
    "__5. Which property of a service is dangerous in the large ?__\n",
    "1. correctness\n",
    "2. statefulness\n",
    "3. accomplish work\n",
    "4. distributed processing"
   ]
  },
  {
   "cell_type": "code",
   "execution_count": 10,
   "metadata": {
    "deletable": false,
    "nbgrader": {
     "checksum": "f0306965a8295d54948b1f01f0022a80",
     "grade": false,
     "grade_id": "cell-0d6b6981c043eae0",
     "locked": false,
     "schema_version": 1,
     "solution": true
    }
   },
   "outputs": [
    {
     "data": {
      "text/plain": [
       "2"
      ]
     },
     "execution_count": 10,
     "metadata": {},
     "output_type": "execute_result"
    }
   ],
   "source": [
    "def Q5():\n",
    "    # YOUR CODE HERE\n",
    "    # raise NotImplementedError()\n",
    "    return 2\n",
    "\n",
    "Q5()"
   ]
  },
  {
   "cell_type": "code",
   "execution_count": 11,
   "metadata": {
    "deletable": false,
    "editable": false,
    "nbgrader": {
     "checksum": "238e62c51886495b50cc4624bf9f799d",
     "grade": true,
     "grade_id": "cell-d7fc18b7ec8a407d",
     "locked": true,
     "points": 1,
     "schema_version": 1,
     "solution": false
    }
   },
   "outputs": [],
   "source": [
    "assert isinstance(Q5(), int)"
   ]
  },
  {
   "cell_type": "markdown",
   "metadata": {
    "deletable": false,
    "editable": false,
    "nbgrader": {
     "checksum": "5e63773adba886be5c449f2636b56d72",
     "grade": false,
     "grade_id": "cell-2090ab64121d7a37",
     "locked": true,
     "schema_version": 1,
     "solution": false
    }
   },
   "source": [
    "__6. What method should be avoided on values in the large ?__\n",
    "1. transform\n",
    "2. record\n",
    "3. route\n",
    "4. update"
   ]
  },
  {
   "cell_type": "code",
   "execution_count": 12,
   "metadata": {
    "deletable": false,
    "nbgrader": {
     "checksum": "cac20db81635b98b833c43cffb859e9e",
     "grade": false,
     "grade_id": "cell-ed5f0b03a1675a58",
     "locked": false,
     "schema_version": 1,
     "solution": true
    }
   },
   "outputs": [
    {
     "data": {
      "text/plain": [
       "4"
      ]
     },
     "execution_count": 12,
     "metadata": {},
     "output_type": "execute_result"
    }
   ],
   "source": [
    "def Q6():\n",
    "    # YOUR CODE HERE\n",
    "    # raise NotImplementedError()\n",
    "    return 4\n",
    "\n",
    "Q6()"
   ]
  },
  {
   "cell_type": "code",
   "execution_count": 13,
   "metadata": {
    "deletable": false,
    "editable": false,
    "nbgrader": {
     "checksum": "1bc117d2b679066581676b0e293fe614",
     "grade": true,
     "grade_id": "cell-93ef4ae7112f9795",
     "locked": true,
     "points": 1,
     "schema_version": 1,
     "solution": false
    }
   },
   "outputs": [],
   "source": [
    "assert isinstance(Q6(), int)"
   ]
  },
  {
   "cell_type": "markdown",
   "metadata": {
    "deletable": false,
    "editable": false,
    "nbgrader": {
     "checksum": "0e3fa240e27db4ddf4762de154da0456",
     "grade": false,
     "grade_id": "cell-497acc804e90967f",
     "locked": true,
     "schema_version": 1,
     "solution": false
    }
   },
   "source": [
    "__7. Which data structure should be used to move values between programs ?__\n",
    "1. sets\n",
    "2. lists\n",
    "3. stacks\n",
    "4. queues"
   ]
  },
  {
   "cell_type": "code",
   "execution_count": 14,
   "metadata": {
    "deletable": false,
    "nbgrader": {
     "checksum": "f5ec7f410eaac43eeed2f868bbbb1f8f",
     "grade": false,
     "grade_id": "cell-6a1daef61811752d",
     "locked": false,
     "schema_version": 1,
     "solution": true
    }
   },
   "outputs": [
    {
     "data": {
      "text/plain": [
       "4"
      ]
     },
     "execution_count": 14,
     "metadata": {},
     "output_type": "execute_result"
    }
   ],
   "source": [
    "def Q7():\n",
    "    # YOUR CODE HERE\n",
    "    # raise NotImplementedError()\n",
    "    return 4\n",
    "\n",
    "Q7()"
   ]
  },
  {
   "cell_type": "code",
   "execution_count": 15,
   "metadata": {
    "deletable": false,
    "editable": false,
    "nbgrader": {
     "checksum": "7df8410215938c10f009f44806fcb79e",
     "grade": true,
     "grade_id": "cell-fe9ea22acb67684f",
     "locked": true,
     "points": 1,
     "schema_version": 1,
     "solution": false
    }
   },
   "outputs": [],
   "source": [
    "assert isinstance(Q7(), int)"
   ]
  },
  {
   "cell_type": "markdown",
   "metadata": {
    "deletable": false,
    "editable": false,
    "nbgrader": {
     "checksum": "41c2c521e3cd0dbb1ec5e74795bfdced",
     "grade": false,
     "grade_id": "cell-703702b093bc0ac1",
     "locked": true,
     "schema_version": 1,
     "solution": false
    }
   },
   "source": [
    "__8. Which concept is NOT important in the Epochal Time Model ?__\n",
    "1. state\n",
    "2. process\n",
    "3. references\n",
    "4. databases"
   ]
  },
  {
   "cell_type": "code",
   "execution_count": 16,
   "metadata": {
    "deletable": false,
    "nbgrader": {
     "checksum": "a8b2cbfd0b6502825b994c8e8828f441",
     "grade": false,
     "grade_id": "cell-803731b2fe93baa1",
     "locked": false,
     "schema_version": 1,
     "solution": true
    }
   },
   "outputs": [
    {
     "data": {
      "text/plain": [
       "4"
      ]
     },
     "execution_count": 16,
     "metadata": {},
     "output_type": "execute_result"
    }
   ],
   "source": [
    "def Q8():\n",
    "    # YOUR CODE HERE\n",
    "    # raise NotImplementedError()\n",
    "    return 4\n",
    "\n",
    "Q8()"
   ]
  },
  {
   "cell_type": "code",
   "execution_count": 17,
   "metadata": {
    "deletable": false,
    "editable": false,
    "nbgrader": {
     "checksum": "acb913aad4a125991cfabff93fa90e75",
     "grade": true,
     "grade_id": "cell-3916000bef44802c",
     "locked": true,
     "points": 1,
     "schema_version": 1,
     "solution": false
    }
   },
   "outputs": [],
   "source": [
    "assert isinstance(Q8(), int)"
   ]
  },
  {
   "cell_type": "markdown",
   "metadata": {
    "deletable": false,
    "editable": false,
    "nbgrader": {
     "checksum": "65d0fe8de78a788454253baa0f621e5f",
     "grade": false,
     "grade_id": "cell-1cefceca6fae0c44",
     "locked": true,
     "schema_version": 1,
     "solution": false
    }
   },
   "source": [
    "__9. What is true about system failures ?__\n",
    "1. we can correlate failures across services\n",
    "2. we can guarantee that another service is online\n",
    "3. we can guarantee that something bad will happen\n",
    "4. we can wait for a system to recover from a failure"
   ]
  },
  {
   "cell_type": "code",
   "execution_count": 18,
   "metadata": {
    "deletable": false,
    "nbgrader": {
     "checksum": "6f06b4e23a22c720d94ddf665df43df7",
     "grade": false,
     "grade_id": "cell-c51ba59356d3f7f0",
     "locked": false,
     "schema_version": 1,
     "solution": true
    }
   },
   "outputs": [
    {
     "data": {
      "text/plain": [
       "3"
      ]
     },
     "execution_count": 18,
     "metadata": {},
     "output_type": "execute_result"
    }
   ],
   "source": [
    "def Q9():\n",
    "    # YOUR CODE HERE\n",
    "    # raise NotImplementedError()\n",
    "    return 3\n",
    "\n",
    "Q9()"
   ]
  },
  {
   "cell_type": "code",
   "execution_count": 19,
   "metadata": {
    "deletable": false,
    "editable": false,
    "nbgrader": {
     "checksum": "2bd0e78cda584c2cb107131eb17b0420",
     "grade": true,
     "grade_id": "cell-7a48f41b09b209a3",
     "locked": true,
     "points": 1,
     "schema_version": 1,
     "solution": false
    }
   },
   "outputs": [],
   "source": [
    "assert isinstance(Q9(), int)"
   ]
  },
  {
   "cell_type": "markdown",
   "metadata": {
    "deletable": false,
    "editable": false,
    "nbgrader": {
     "checksum": "ca4cb5adc0500c13551f5b9d8a0daeaf",
     "grade": false,
     "grade_id": "cell-c6c368eb5e0a3cad",
     "locked": true,
     "schema_version": 1,
     "solution": false
    }
   },
   "source": [
    "__10. What should NOT be part of a language for the system ?__\n",
    "1. a fix communication interface\n",
    "2. applications as services\n",
    "3. protocols and formats\n",
    "4. message passing"
   ]
  },
  {
   "cell_type": "code",
   "execution_count": 20,
   "metadata": {
    "deletable": false,
    "nbgrader": {
     "checksum": "9350747f7e1b9a6f9ca8dcd76f519f07",
     "grade": false,
     "grade_id": "cell-c5c2bdae3fd3601f",
     "locked": false,
     "schema_version": 1,
     "solution": true
    }
   },
   "outputs": [
    {
     "data": {
      "text/plain": [
       "1"
      ]
     },
     "execution_count": 20,
     "metadata": {},
     "output_type": "execute_result"
    }
   ],
   "source": [
    "def Q10():\n",
    "    # YOUR CODE HERE\n",
    "    # raise NotImplementedError()\n",
    "    return 1\n",
    "\n",
    "Q10()"
   ]
  },
  {
   "cell_type": "code",
   "execution_count": 21,
   "metadata": {
    "deletable": false,
    "editable": false,
    "nbgrader": {
     "checksum": "ea96cec3c63469d40cce24d533e9eebc",
     "grade": true,
     "grade_id": "cell-3a108cbb112130ff",
     "locked": true,
     "points": 1,
     "schema_version": 1,
     "solution": false
    }
   },
   "outputs": [],
   "source": [
    "assert isinstance(Q10(), int)"
   ]
  }
 ],
 "metadata": {
  "hide_input": false,
  "kernelspec": {
   "display_name": "Python 3",
   "language": "python",
   "name": "python3"
  },
  "language_info": {
   "codemirror_mode": {
    "name": "ipython",
    "version": 3
   },
   "file_extension": ".py",
   "mimetype": "text/x-python",
   "name": "python",
   "nbconvert_exporter": "python",
   "pygments_lexer": "ipython3",
   "version": "3.6.6"
  }
 },
 "nbformat": 4,
 "nbformat_minor": 2
}
