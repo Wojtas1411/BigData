{
 "cells": [
  {
   "cell_type": "markdown",
   "metadata": {
    "deletable": false,
    "editable": false,
    "nbgrader": {
     "checksum": "3df0a725f82e03fc14747c02a2f3a833",
     "grade": false,
     "grade_id": "cell-30e9a7c49790a0f2",
     "locked": true,
     "schema_version": 1,
     "solution": false
    }
   },
   "source": [
    "# Tutorial 4: MapReduce"
   ]
  },
  {
   "cell_type": "markdown",
   "metadata": {
    "deletable": false,
    "editable": false,
    "nbgrader": {
     "checksum": "ee91ff9284daebac21618134eabdaa48",
     "grade": false,
     "grade_id": "cell-36912ea78749d08d",
     "locked": true,
     "schema_version": 1,
     "solution": false
    }
   },
   "source": [
    "__The goal of this assignment is to implement 5 functions related to MapReduce and create 5 queries with them.__\n",
    "\n",
    "MapReduce is based on functional programming, an approach that encourages the use of functions to build program.\n",
    "\n",
    "While MapReduce can effectively process large amount of data, functional programming is a more general framework.\n",
    "\n",
    "The purpose of this tutorial is to introduce you to functional programming through the use of MapReduce functions.\n",
    "\n",
    "In the following course, we will use other functions to build higher-level abstraction based on Spark and RDD.\n",
    "\n",
    "__The MapReduce functions are explained in the example section of this notebook.__\n",
    "\n",
    "__Grade scale__: 20 points\n",
    "- __correct function/query__: 2 points\n",
    "- __incorrect function/query__: 2 points\n",
    "\n",
    "__Further documentations__:\n",
    "* https://learnxinyminutes.com/docs/python/\n",
    "* https://en.wikipedia.org/wiki/MapReduce\n",
    "* https://en.wikipedia.org/wiki/Functional_programming\n",
    "* https://www.dataquest.io/blog/introduction-functional-programming-python/"
   ]
  },
  {
   "cell_type": "markdown",
   "metadata": {},
   "source": [
    "# Core"
   ]
  },
  {
   "cell_type": "code",
   "execution_count": 1,
   "metadata": {},
   "outputs": [],
   "source": [
    "# define some helper functions with lambda\n",
    "# lambdas are functions that must fit on 1 line \n",
    "\n",
    "inc = lambda x: x + 1\n",
    "dec = lambda x: x - 1\n",
    "square = lambda x: x * x\n",
    "\n",
    "add = lambda x, y: x + y\n",
    "sub = lambda x, y: x - y\n",
    "\n",
    "ispos = lambda x: x > 0\n",
    "isneg = lambda x: x < 0 \n",
    "\n",
    "isodd = lambda x: x % 2 == 1\n",
    "iseven = lambda x: x % 2 == 0\n",
    "\n",
    "ident = lambda x: (x, x)\n",
    "sumall = lambda x: ('sum', x)\n",
    "lenall = lambda x: ('len', len(x))\n",
    "leneach = lambda x: (x, len(x))\n",
    "countall = lambda x: ('count', 1)\n",
    "counteach = lambda x: (x, 1)"
   ]
  },
  {
   "cell_type": "markdown",
   "metadata": {
    "deletable": false,
    "editable": false,
    "nbgrader": {
     "checksum": "ad8944117849c4feddad6204f4be0731",
     "grade": false,
     "grade_id": "cell-cad05a4141096aae",
     "locked": true,
     "schema_version": 1,
     "solution": false
    }
   },
   "source": [
    "# Examples"
   ]
  },
  {
   "cell_type": "code",
   "execution_count": 2,
   "metadata": {},
   "outputs": [
    {
     "data": {
      "text/plain": [
       "[1, 2, 3, 4, 5, 6, 7, 8, 9, 10]"
      ]
     },
     "execution_count": 2,
     "metadata": {},
     "output_type": "execute_result"
    }
   ],
   "source": [
    "# map(f: Callable, coll: Iterable) -> Iterable: apply f to every object of coll\n",
    "# - range(x: int) -> List[int]: generate a list of number from 0 to x (excluded)\n",
    "# - Python's map mus be converted to a list so it can be printed on the screen\n",
    "\n",
    "list(map(inc, range(10)))"
   ]
  },
  {
   "cell_type": "code",
   "execution_count": 3,
   "metadata": {
    "deletable": false,
    "editable": false,
    "nbgrader": {
     "checksum": "e54dc3cc56c09241b8b20f44dcce183a",
     "grade": false,
     "grade_id": "cell-08269fe2713002dc",
     "locked": true,
     "schema_version": 1,
     "solution": false
    }
   },
   "outputs": [
    {
     "data": {
      "text/plain": [
       "[0, 2, 4, 6, 8]"
      ]
     },
     "execution_count": 3,
     "metadata": {},
     "output_type": "execute_result"
    }
   ],
   "source": [
    "# filter(f: Callable[..., bool], coll: Iterable) -> Iterable: keep every object of coll that satisfy f\n",
    "# - we call f a predicate as this functions must return either True of False (boolean)\n",
    "# - f is satified when its returns value is True\n",
    "\n",
    "list(filter(iseven, range(10)))"
   ]
  },
  {
   "cell_type": "code",
   "execution_count": 4,
   "metadata": {
    "deletable": false,
    "editable": false,
    "nbgrader": {
     "checksum": "5abbba6ca3e0725f7d4336cbe8eec753",
     "grade": false,
     "grade_id": "cell-457d38ae34e662f6",
     "locked": true,
     "schema_version": 1,
     "solution": false
    }
   },
   "outputs": [
    {
     "data": {
      "text/plain": [
       "45"
      ]
     },
     "execution_count": 4,
     "metadata": {},
     "output_type": "execute_result"
    }
   ],
   "source": [
    "# reduce(f: Callable, coll: Iterable, init: Any) -> Any: apply f on 2 objects cumulatively starting with init\n",
    "# - example: an addition is a reduce function applied to a list of number where f is the + sign\n",
    "# - we must import reduce from functools as this function is not built anymore in Python 3\n",
    "\n",
    "from functools import reduce\n",
    "\n",
    "reduce(add, range(10), 0)"
   ]
  },
  {
   "cell_type": "markdown",
   "metadata": {
    "deletable": false,
    "editable": false,
    "nbgrader": {
     "checksum": "ba2f41e2911ccb5d331261162e366158",
     "grade": false,
     "grade_id": "cell-11dbfef022a47803",
     "locked": true,
     "schema_version": 1,
     "solution": false
    }
   },
   "source": [
    "# Functions\n",
    "\n",
    "__You must not use Python builtins functions (i.e map, filter, reduce) !__  \n",
    "\n",
    "I used my secret teacher assistant power to make the test fail if you do.\n",
    "\n",
    "Instead, you must use for loops to create and return a new collection."
   ]
  },
  {
   "cell_type": "code",
   "execution_count": 5,
   "metadata": {
    "deletable": false,
    "nbgrader": {
     "checksum": "9b4b647431f9e06be6824a79c6e8f6b4",
     "grade": false,
     "grade_id": "cell-d372dd9366ff2a81",
     "locked": false,
     "schema_version": 1,
     "solution": true
    }
   },
   "outputs": [],
   "source": [
    "def mymap(f, coll):\n",
    "    \"\"\"Apply f to every object of coll.\"\"\"\n",
    "    result = list()\n",
    "    # YOUR CODE HERE\n",
    "    \n",
    "    for i in coll:\n",
    "        result.append(f(i))\n",
    "    \n",
    "    #raise NotImplementedError()\n",
    "    return result"
   ]
  },
  {
   "cell_type": "code",
   "execution_count": 6,
   "metadata": {
    "deletable": false,
    "editable": false,
    "nbgrader": {
     "checksum": "5a48458b1e6c8af90f9d7640c44a5d8b",
     "grade": true,
     "grade_id": "cell-c520b0dffe5358ab",
     "locked": true,
     "points": 2,
     "schema_version": 1,
     "solution": false
    }
   },
   "outputs": [],
   "source": [
    "assert mymap(inc, []) == []\n",
    "assert mymap(square, []) == []\n",
    "assert mymap(inc, [2]) == [3]\n",
    "assert mymap(square, [2]) == [4]\n",
    "assert mymap(inc, [1, 2, 3]) == [2, 3, 4]\n",
    "assert mymap(square, [1, 2, 3]) == [1, 4, 9]"
   ]
  },
  {
   "cell_type": "code",
   "execution_count": 7,
   "metadata": {
    "deletable": false,
    "nbgrader": {
     "checksum": "cd1b6898cce2ee2173f6cae3ad0deeb0",
     "grade": false,
     "grade_id": "cell-e0cbea6b098e700d",
     "locked": false,
     "schema_version": 1,
     "solution": true
    }
   },
   "outputs": [],
   "source": [
    "def myfilter(f, coll):\n",
    "    \"\"\"Keep every object x of coll that satisfies f(x) (f(x) returns True).\"\"\"\n",
    "    res = list()\n",
    "    # YOUR CODE HERE\n",
    "    for i in coll:\n",
    "        if f(i):\n",
    "            res.append(i)\n",
    "    #raise NotImplementedError()\n",
    "    return res"
   ]
  },
  {
   "cell_type": "code",
   "execution_count": 8,
   "metadata": {
    "deletable": false,
    "editable": false,
    "nbgrader": {
     "checksum": "f74ebd3cf961d17991b4377fc84e39ba",
     "grade": true,
     "grade_id": "cell-ca54b7da341ebe8b",
     "locked": true,
     "points": 2,
     "schema_version": 1,
     "solution": false
    }
   },
   "outputs": [],
   "source": [
    "assert myfilter(ispos, []) == []\n",
    "assert myfilter(iseven, []) == []\n",
    "assert myfilter(ispos, [1]) == [1]\n",
    "assert myfilter(iseven, [1]) == []\n",
    "assert myfilter(ispos, [0, 1, 2]) == [1, 2]\n",
    "assert myfilter(iseven, [0, 1, 2]) == [0, 2]"
   ]
  },
  {
   "cell_type": "code",
   "execution_count": 9,
   "metadata": {
    "deletable": false,
    "nbgrader": {
     "checksum": "6f17b24413036241704b8da3b4d56e6b",
     "grade": false,
     "grade_id": "cell-05efaa531223c2eb",
     "locked": false,
     "schema_version": 1,
     "solution": true
    }
   },
   "outputs": [],
   "source": [
    "def myreduce(f, coll, init):\n",
    "    \"\"\"Apply f every two object of coll cumulatively starting with init.\"\"\"\n",
    "    res = init\n",
    "    # YOUR CODE HERE\n",
    "    for i in coll:\n",
    "        res = f(res,i)\n",
    "    #raise NotImplementedError()\n",
    "    return res"
   ]
  },
  {
   "cell_type": "code",
   "execution_count": 10,
   "metadata": {
    "deletable": false,
    "editable": false,
    "nbgrader": {
     "checksum": "41df7eec43f62cb06891499bcdb612b3",
     "grade": true,
     "grade_id": "cell-b367c50b1edd8d25",
     "locked": true,
     "points": 2,
     "schema_version": 1,
     "solution": false
    }
   },
   "outputs": [],
   "source": [
    "assert myreduce(add, [], 0) == 0\n",
    "assert myreduce(sub, [], 9) == 9\n",
    "assert myreduce(add, [1, 2, 3, 4, 5], 0) == 15\n",
    "assert myreduce(sub, [1, 2, 3, 4, 5], 0) == -15\n",
    "assert myreduce(add, [1, 2, 3, 4, 5], 5) == 20\n",
    "assert myreduce(sub, [1, 2, 3, 4, 5], 5) == -10"
   ]
  },
  {
   "cell_type": "code",
   "execution_count": 11,
   "metadata": {
    "deletable": false,
    "editable": false,
    "nbgrader": {
     "checksum": "817d433391107cf1354f23178debb283",
     "grade": false,
     "grade_id": "cell-adfabf84c57041b7",
     "locked": true,
     "schema_version": 1,
     "solution": false
    }
   },
   "outputs": [],
   "source": [
    "# you don't need to implement this function, just to understand it\n",
    "# this function is required by MapReduce to distribute over reducers\n",
    "# myshuffle will be called by MapReduce between mapper and reducer calls\n",
    "\n",
    "def myshuffle(tuples):\n",
    "    \"\"\"Group tuple values (second entry) by their key (first entry).\"\"\"\n",
    "    shuffled = dict()\n",
    "    \n",
    "    for key, value in tuples:\n",
    "        if key not in shuffled:\n",
    "            shuffled[key] = list()\n",
    "            \n",
    "        shuffled[key].append(value)\n",
    "    \n",
    "    return sorted(shuffled.items())"
   ]
  },
  {
   "cell_type": "code",
   "execution_count": 12,
   "metadata": {
    "deletable": false,
    "editable": false,
    "nbgrader": {
     "checksum": "89225bbf0c6f7d4d9cb9b2ab3be6f863",
     "grade": false,
     "grade_id": "cell-0bb13e8ae73e2440",
     "locked": true,
     "schema_version": 1,
     "solution": false
    }
   },
   "outputs": [],
   "source": [
    "assert myshuffle([]) == []\n",
    "assert myshuffle([(1, 'a')]) == [(1, ['a'])]\n",
    "assert myshuffle([(1, 'a'), (1, 'b')]) == [(1, ['a', 'b'])]\n",
    "assert myshuffle([(1, 'a'), (2, 'b')]) == [(1, ['a']), (2, ['b'])]\n",
    "assert myshuffle([(2, 'a'), (1, 'b')]) == [(1, ['b']), (2, ['a'])]\n",
    "assert myshuffle([(1, 'a'), (1, 'b'), (2, 'c')]) == [(1, ['a', 'b']), (2, ['c'])]\n",
    "assert myshuffle([(1, 'a'), (2, 'b'), (1, 'c'), (2, 'd')]) == [(1, ['a', 'c']), (2, ['b', 'd'])]"
   ]
  },
  {
   "cell_type": "code",
   "execution_count": 13,
   "metadata": {
    "deletable": false,
    "nbgrader": {
     "checksum": "d9c43cb11d3f0c5907741c8eb4b5eeaf",
     "grade": false,
     "grade_id": "cell-3df469226fbb6e27",
     "locked": false,
     "schema_version": 1,
     "solution": true
    }
   },
   "outputs": [],
   "source": [
    "# mapper(x: Any) -> Iterable[Tuple[key, value]] (where Key = Value = Any)\n",
    "\n",
    "def mymapreduce(mapper, reducer, coll, init):\n",
    "    \"\"\"Perform the following steps on coll:\n",
    "       1. apply mapper on every object of coll\n",
    "       2. group the output of mapper with myshuffle function\n",
    "       3. run reducer with init on shuffled values and for each shuffled group\n",
    "       4. return the key and its reducer output for each shuffled group in a new coll\n",
    "    \"\"\"\n",
    "    res = list()\n",
    "    # YOUR CODE HERE\n",
    "    \n",
    "    for key, value in myshuffle(mymap(mapper, coll)):\n",
    "        res.append((key,myreduce(reducer,value,init)))\n",
    "        \n",
    "    \n",
    "    return res"
   ]
  },
  {
   "cell_type": "code",
   "execution_count": 14,
   "metadata": {
    "deletable": false,
    "editable": false,
    "nbgrader": {
     "checksum": "357d8104c3879a1f8889754031f428cb",
     "grade": true,
     "grade_id": "cell-5b97df231870154d",
     "locked": true,
     "points": 2,
     "schema_version": 1,
     "solution": false
    }
   },
   "outputs": [],
   "source": [
    "assert mymapreduce(countall, add, [], 0) == []\n",
    "assert mymapreduce(countall, add, [1], 0) == [('count', 1)]\n",
    "assert mymapreduce(countall, add, [1, 2], 0) == [('count', 2)]\n",
    "assert mymapreduce(countall, add, [1, 2, 3], 0) == [('count', 3)]\n",
    "assert mymapreduce(countall, add, [1, 2, 3], 5) == [('count', 8)]\n",
    "assert mymapreduce(countall, sub, [1, 2, 3], 0) == [('count', -3)]\n",
    "assert mymapreduce(counteach, add, [], 0) == []\n",
    "assert mymapreduce(counteach, add, [1], 0) == [(1, 1)]\n",
    "assert mymapreduce(counteach, add, [1, 2], 0) == [(1, 1), (2, 1)]\n",
    "assert mymapreduce(counteach, add, [1, 2, 1], 0) == [(1, 2), (2, 1)]\n",
    "assert mymapreduce(counteach, add, [1, 2, 1], 5) == [(1, 7), (2, 6)]\n",
    "assert mymapreduce(counteach, sub, [1, 2, 1], 0) == [(1, -2), (2, -1)]\n",
    "assert mymapreduce(counteach, add, [1, 2, 3], 0) == [(1, 1), (2, 1), (3, 1)]"
   ]
  },
  {
   "cell_type": "code",
   "execution_count": 15,
   "metadata": {
    "deletable": false,
    "nbgrader": {
     "checksum": "bccf0d50c144f227c85f690b1645681e",
     "grade": false,
     "grade_id": "cell-ecbe1b79490af35e",
     "locked": false,
     "schema_version": 1,
     "solution": true
    }
   },
   "outputs": [],
   "source": [
    "# this function is hard to implement and not required for the rest of the assignment !\n",
    "\n",
    "def myparmapreduce(pool, mapper, reducer, coll, init):\n",
    "    \"\"\"Parallel implementation of mapreduce:\n",
    "       1. mapper is run in parallel by pool.map()\n",
    "       2. reducers are run in parallel with pool.map()\n",
    "    \"\"\"\n",
    "    res = list()\n",
    "    # YOUR CODE HERE\n",
    "    # raise NotImplementedError()\n",
    "    \n",
    "    func = lambda x: (x[0],myreduce(reducer,x[1],init))\n",
    "    \n",
    "    res = pool.map(func,myshuffle(pool.map(mapper,coll)))\n",
    "    \n",
    "    return res"
   ]
  },
  {
   "cell_type": "code",
   "execution_count": 16,
   "metadata": {
    "deletable": false,
    "editable": false,
    "nbgrader": {
     "checksum": "c5d018d223f1800f13007536026538c6",
     "grade": true,
     "grade_id": "cell-2d82f5d4242c7042",
     "locked": true,
     "points": 2,
     "schema_version": 1,
     "solution": false
    }
   },
   "outputs": [],
   "source": [
    "from multiprocessing.dummy import Pool\n",
    "p = Pool()\n",
    "\n",
    "assert myparmapreduce(p, countall, add, [], 0) == []\n",
    "assert myparmapreduce(p, countall, add, [1], 0) == [('count', 1)]\n",
    "assert myparmapreduce(p, countall, add, [1, 2], 0) == [('count', 2)]\n",
    "assert myparmapreduce(p, countall, add, [1, 2, 3], 0) == [('count', 3)]\n",
    "assert myparmapreduce(p, countall, add, [1, 2, 3], 5) == [('count', 8)]\n",
    "assert myparmapreduce(p, countall, sub, [1, 2, 3], 0) == [('count', -3)]\n",
    "assert myparmapreduce(p, counteach, add, [], 0) == []\n",
    "assert myparmapreduce(p, counteach, add, [1], 0) == [(1, 1)]\n",
    "assert myparmapreduce(p, counteach, add, [1, 2], 0) == [(1, 1), (2, 1)]\n",
    "assert myparmapreduce(p, counteach, add, [1, 2, 1], 0) == [(1, 2), (2, 1)]\n",
    "assert myparmapreduce(p, counteach, add, [1, 2, 1], 5) == [(1, 7), (2, 6)]\n",
    "assert myparmapreduce(p, counteach, sub, [1, 2, 1], 0) == [(1, -2), (2, -1)]\n",
    "assert myparmapreduce(p, counteach, add, [1, 2, 3], 0) == [(1, 1), (2, 1), (3, 1)]"
   ]
  },
  {
   "cell_type": "markdown",
   "metadata": {
    "deletable": false,
    "editable": false,
    "nbgrader": {
     "checksum": "070e6515cf5017ced64aeb29d95fbde7",
     "grade": false,
     "grade_id": "cell-05765d27820e4c98",
     "locked": true,
     "schema_version": 1,
     "solution": false
    }
   },
   "source": [
    "# Queries\n",
    "\n",
    "__You must use mymapreduce() for every query.__\n",
    "\n",
    "Think carefuly about the role and signature of mapper and reducer."
   ]
  },
  {
   "cell_type": "markdown",
   "metadata": {
    "deletable": false,
    "editable": false,
    "nbgrader": {
     "checksum": "8c05824bafdc3d5a9d4f3aa6aa2525e6",
     "grade": false,
     "grade_id": "cell-2651e12ba517ac45",
     "locked": true,
     "schema_version": 1,
     "solution": false
    }
   },
   "source": [
    "__1. Count word occurrences in the given sentence__\n",
    "- _hint_: use `sentense.split(' ')` to convert a string to a list of words"
   ]
  },
  {
   "cell_type": "code",
   "execution_count": 17,
   "metadata": {
    "deletable": false,
    "nbgrader": {
     "checksum": "80d54b35c70f08d797fe0195b656e48a",
     "grade": false,
     "grade_id": "cell-2005e43b398e0d5e",
     "locked": false,
     "schema_version": 1,
     "solution": true
    }
   },
   "outputs": [
    {
     "data": {
      "text/plain": [
       "[('a', 2), ('big', 2), ('data', 1), ('is', 2), ('problem', 2), ('when', 1)]"
      ]
     },
     "execution_count": 17,
     "metadata": {},
     "output_type": "execute_result"
    }
   ],
   "source": [
    "sentence = \"a problem is a big problem when data is big\"\n",
    "\n",
    "def Q1(s):\n",
    "    # YOUR CODE HERE\n",
    "    # raise NotImplementedError()\n",
    "    \n",
    "    return mymapreduce(counteach, add, s.split(' '),0)\n",
    "    \n",
    "Q1(sentence)"
   ]
  },
  {
   "cell_type": "code",
   "execution_count": 18,
   "metadata": {
    "deletable": false,
    "editable": false,
    "nbgrader": {
     "checksum": "6f1159e5cca78d89abdccafb0fbea5d6",
     "grade": true,
     "grade_id": "cell-ae734cd5b7302cec",
     "locked": true,
     "points": 2,
     "schema_version": 1,
     "solution": false
    }
   },
   "outputs": [],
   "source": [
    "assert Q1(sentence) == [('a', 2), ('big', 2), ('data', 1), ('is', 2), ('problem', 2), ('when', 1)]"
   ]
  },
  {
   "cell_type": "markdown",
   "metadata": {
    "deletable": false,
    "editable": false,
    "nbgrader": {
     "checksum": "5ef642129c9454c9c89dc4102c9913fd",
     "grade": false,
     "grade_id": "cell-f707c2f4900a4ca0",
     "locked": true,
     "schema_version": 1,
     "solution": false
    }
   },
   "source": [
    "__2. Count the number of non-blank characters in the given sentence__\n",
    "- _hint_: aggregate all mapper values in a single key"
   ]
  },
  {
   "cell_type": "code",
   "execution_count": 19,
   "metadata": {
    "deletable": false,
    "nbgrader": {
     "checksum": "4031fec3a0ec0c42a1ae813c753990c4",
     "grade": false,
     "grade_id": "cell-74de8063218e6689",
     "locked": false,
     "schema_version": 1,
     "solution": true
    }
   },
   "outputs": [
    {
     "data": {
      "text/plain": [
       "[('len', 34)]"
      ]
     },
     "execution_count": 19,
     "metadata": {},
     "output_type": "execute_result"
    }
   ],
   "source": [
    "sentence = \"a problem is a big problem when data is big\"\n",
    "\n",
    "def Q2(s):\n",
    "    # YOUR CODE HERE\n",
    "    # raise NotImplementedError()\n",
    "    return mymapreduce(lenall, add, s.split(' '),0)\n",
    "    \n",
    "Q2(sentence)"
   ]
  },
  {
   "cell_type": "code",
   "execution_count": 20,
   "metadata": {
    "deletable": false,
    "editable": false,
    "nbgrader": {
     "checksum": "1a304e9294600eeef1fb1d9e866ad8e5",
     "grade": true,
     "grade_id": "cell-1a6d962730bf7cdd",
     "locked": true,
     "points": 2,
     "schema_version": 1,
     "solution": false
    }
   },
   "outputs": [],
   "source": [
    " assert Q2(sentence)[0][1] == 34  # e.g. [('chars', 34)]"
   ]
  },
  {
   "cell_type": "markdown",
   "metadata": {
    "deletable": false,
    "editable": false,
    "nbgrader": {
     "checksum": "e727ac3a285575d44996290f4db6a13d",
     "grade": false,
     "grade_id": "cell-330bb4341b15f718",
     "locked": true,
     "schema_version": 1,
     "solution": false
    }
   },
   "source": [
    "__3. Group the given list of record by their age__\n",
    "- _hint_: you can concatenate Python lists with `+`"
   ]
  },
  {
   "cell_type": "code",
   "execution_count": 21,
   "metadata": {
    "deletable": false,
    "nbgrader": {
     "checksum": "834eeab1168d3da4c943983d7ee530c5",
     "grade": false,
     "grade_id": "cell-4e3182f7e09a1b05",
     "locked": false,
     "schema_version": 1,
     "solution": true
    }
   },
   "outputs": [
    {
     "data": {
      "text/plain": [
       "[(20, ['Eva']), (22, ['Alice', 'Bob']), (24, ['Max', 'Lina']), (30, ['Ethan'])]"
      ]
     },
     "execution_count": 21,
     "metadata": {},
     "output_type": "execute_result"
    }
   ],
   "source": [
    "persons = [{'name': 'Alice', 'age': 22}, {'name': 'Bob',  'age': 22},\n",
    "           {'name': 'Max',   'age': 24}, {'name': 'Lina', 'age': 24},\n",
    "           {'name': 'Ethan', 'age': 30}, {'name': 'Eva',  'age': 20}]\n",
    "\n",
    "def Q3(coll):\n",
    "    # YOUR CODE HERE\n",
    "    # raise NotImplementedError()\n",
    "    \n",
    "    superx = lambda xy: (xy[\"age\"],[xy[\"name\"]]) #agregate by age\n",
    "    \n",
    "    return sorted(mymapreduce(superx, add, coll, []))\n",
    "Q3(persons)"
   ]
  },
  {
   "cell_type": "code",
   "execution_count": 22,
   "metadata": {
    "deletable": false,
    "editable": false,
    "nbgrader": {
     "checksum": "3e92a8a586d6a50f83dbc8062d1ad41e",
     "grade": true,
     "grade_id": "cell-78c88aa10a2d76a4",
     "locked": true,
     "points": 2,
     "schema_version": 1,
     "solution": false
    }
   },
   "outputs": [],
   "source": [
    "assert Q3(persons) == [(20, ['Eva']), (22, ['Alice', 'Bob']), (24, ['Max', 'Lina']), (30, ['Ethan'])]"
   ]
  },
  {
   "cell_type": "markdown",
   "metadata": {
    "deletable": false,
    "editable": false,
    "nbgrader": {
     "checksum": "988055ea8957d5f0f74d0116ed008948",
     "grade": false,
     "grade_id": "cell-e787f810efd4db7a",
     "locked": true,
     "schema_version": 1,
     "solution": false
    }
   },
   "source": [
    "__4. Find the youngest person in the following list__\n",
    "- _hint_: you can only compare items two by two"
   ]
  },
  {
   "cell_type": "code",
   "execution_count": 23,
   "metadata": {
    "deletable": false,
    "nbgrader": {
     "checksum": "ed118bc605f6660e6c3d58b3c3156631",
     "grade": false,
     "grade_id": "cell-c1d120453ab36baf",
     "locked": false,
     "schema_version": 1,
     "solution": true
    }
   },
   "outputs": [
    {
     "data": {
      "text/plain": [
       "[(0, {'name': 'Eva', 'age': 20})]"
      ]
     },
     "execution_count": 23,
     "metadata": {},
     "output_type": "execute_result"
    }
   ],
   "source": [
    "persons = [{'name': 'Alice', 'age': 22}, {'name': 'Bob',  'age': 22},\n",
    "           {'name': 'Max',   'age': 24}, {'name': 'Lina', 'age': 24},\n",
    "           {'name': 'Ethan', 'age': 30}, {'name': 'Eva',  'age': 20}]\n",
    "\n",
    "def Q4(coll):\n",
    "    # YOUR CODE HERE\n",
    "    # raise NotImplementedError()\n",
    "    \n",
    "    superx = lambda x: (0,x) #common key\n",
    "    #addx = lambda x, y: y #cheat init\n",
    "    comp = lambda x, y: y if x[\"age\"] > y[\"age\"] else x\n",
    "    \n",
    "    #return mymapreduce(superx,addx,coll,[])\n",
    "    return mymapreduce(superx, comp, coll, coll[0])\n",
    "Q4(persons)"
   ]
  },
  {
   "cell_type": "code",
   "execution_count": 24,
   "metadata": {
    "deletable": false,
    "editable": false,
    "nbgrader": {
     "checksum": "aa4ca1f3a5fc69cde44abcb82becc6a6",
     "grade": true,
     "grade_id": "cell-a8bf6b172f5d71f9",
     "locked": true,
     "points": 2,
     "schema_version": 1,
     "solution": false
    }
   },
   "outputs": [],
   "source": [
    "assert Q4(persons)[0][1] == {'age': 20, 'name': 'Eva'}"
   ]
  },
  {
   "cell_type": "markdown",
   "metadata": {
    "deletable": false,
    "editable": false,
    "nbgrader": {
     "checksum": "009f6cf6f507c4e0190862585bfcd72e",
     "grade": false,
     "grade_id": "cell-f65c1a28b8e0cb4c",
     "locked": true,
     "schema_version": 1,
     "solution": false
    }
   },
   "source": [
    "__5. Retrieve the persons who are younger than 23 year old__"
   ]
  },
  {
   "cell_type": "code",
   "execution_count": 25,
   "metadata": {
    "deletable": false,
    "nbgrader": {
     "checksum": "a80d069d9a4ab3eb29958c1bc87e8446",
     "grade": false,
     "grade_id": "cell-0ba6ed662645679f",
     "locked": false,
     "schema_version": 1,
     "solution": true
    }
   },
   "outputs": [
    {
     "data": {
      "text/plain": [
       "[(0,\n",
       "  [{'name': 'Alice', 'age': 22},\n",
       "   {'name': 'Bob', 'age': 22},\n",
       "   {'name': 'Eva', 'age': 20}])]"
      ]
     },
     "execution_count": 25,
     "metadata": {},
     "output_type": "execute_result"
    }
   ],
   "source": [
    "persons = [{'name': 'Alice', 'age': 22}, {'name': 'Bob',  'age': 22},\n",
    "           {'name': 'Max',   'age': 24}, {'name': 'Lina', 'age': 24},\n",
    "           {'name': 'Ethan', 'age': 30}, {'name': 'Eva',  'age': 20}]\n",
    "\n",
    "def Q5(coll):\n",
    "    # YOUR CODE HERE\n",
    "    superx = lambda x: (0,[x]) #common key to aggregate filtered\n",
    "    \n",
    "    filterx = lambda x: x[\"age\"]<23 #filter\n",
    "    \n",
    "    # raise NotImplementedError()\n",
    "    return mymapreduce(superx,add,myfilter(filterx,coll),[])\n",
    "Q5(persons)"
   ]
  },
  {
   "cell_type": "code",
   "execution_count": 26,
   "metadata": {
    "deletable": false,
    "editable": false,
    "nbgrader": {
     "checksum": "1f6c555219832ec762a142e610af8766",
     "grade": true,
     "grade_id": "cell-ca72abf56cf29e8f",
     "locked": true,
     "points": 2,
     "schema_version": 1,
     "solution": false
    }
   },
   "outputs": [],
   "source": [
    "assert Q5(persons)[0][1] == [\n",
    "    {'name': 'Alice', 'age': 22},\n",
    "    {'name': 'Bob', 'age': 22},\n",
    "    {'name': 'Eva', 'age': 20}\n",
    "]"
   ]
  },
  {
   "cell_type": "code",
   "execution_count": null,
   "metadata": {},
   "outputs": [],
   "source": []
  }
 ],
 "metadata": {
  "hide_input": false,
  "kernelspec": {
   "display_name": "Python 3",
   "language": "python",
   "name": "python3"
  },
  "language_info": {
   "codemirror_mode": {
    "name": "ipython",
    "version": 3
   },
   "file_extension": ".py",
   "mimetype": "text/x-python",
   "name": "python",
   "nbconvert_exporter": "python",
   "pygments_lexer": "ipython3",
   "version": "3.6.6"
  }
 },
 "nbformat": 4,
 "nbformat_minor": 2
}
