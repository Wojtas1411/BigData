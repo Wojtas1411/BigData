{
 "cells": [
  {
   "cell_type": "markdown",
   "metadata": {
    "deletable": false,
    "editable": false,
    "nbgrader": {
     "checksum": "36cda4c4d197ce3dbede46492618f45e",
     "grade": false,
     "grade_id": "cell-2ea85b9a63c320bb",
     "locked": true,
     "schema_version": 1,
     "solution": false
    }
   },
   "source": [
    "# Tutorial 2: RDB"
   ]
  },
  {
   "cell_type": "markdown",
   "metadata": {
    "deletable": false,
    "editable": false,
    "nbgrader": {
     "checksum": "6e59ae0b82cb33a5abde334d9ad83f35",
     "grade": false,
     "grade_id": "cell-31e46cb3fc6bb83d",
     "locked": true,
     "schema_version": 1,
     "solution": false
    }
   },
   "source": [
    "**The goal of this tutorial is to implement 5 relation algebra operators and create 5 queries with them.**\n",
    "\n",
    "The database is stored as a pickle file, a serialization protocol for Python data structures:\n",
    "\n",
    "You can find the structure of the database in the example section below.\n",
    "\n",
    "https://docs.python.org/3/library/pickle.html#examples\n",
    "\n",
    "These are the relation algebra operators:\n",
    "\n",
    "* __Set Union (A ∪ B)__: combine the tuple of both A and B\n",
    "* __Set Difference (A - B)__: keep tuples in A that are not in B\n",
    "* __Set Intersection (A ∩ B)__: find tuples present both in A and B\n",
    "* __Selection (R σ COND)__: filter tuples in R that satisfies COND\n",
    "* __Projection (R π COLS)__: select attributes in R mentioned in COLS\n",
    "* __Join/Product (R X S)__: generate all combinations of R and S tuples\n",
    "\n",
    "You can think of relational algebra as pseudo-code for database queries.\n",
    "\n",
    "These operators are used in every database systems, under different names.\n",
    "\n",
    "I encourage you to consider the complexity of each operator to find optimal queries !\n",
    "\n",
    "__Grade Scale__: 20 points\n",
    "* correct operator/query: 2 point\n",
    "* incorrect operator/query: 0 point\n",
    "\n",
    "__Further documentations__:\n",
    "\n",
    "* https://www.imdb.com/interfaces/\n",
    "* https://learnxinyminutes.com/docs/python/\n",
    "* https://en.wikipedia.org/wiki/Relational_algebra\n",
    "* https://docs.python.org/3/tutorial/datastructures.html\n",
    "* https://www.dataquest.io/blog/jupyter-notebook-tutorial/"
   ]
  },
  {
   "cell_type": "markdown",
   "metadata": {
    "deletable": false,
    "editable": false,
    "nbgrader": {
     "checksum": "e7d225dbd802c5e36eb6708f866fd8ed",
     "grade": false,
     "grade_id": "cell-14cc46e630748a2c",
     "locked": true,
     "schema_version": 1,
     "solution": false
    }
   },
   "source": [
    "# Core"
   ]
  },
  {
   "cell_type": "code",
   "execution_count": 2,
   "metadata": {
    "deletable": false,
    "editable": false,
    "nbgrader": {
     "checksum": "66a41f92c6a166ed76bb163bdf806dcb",
     "grade": false,
     "grade_id": "cell-db847ba62b9604a3",
     "locked": true,
     "schema_version": 1,
     "solution": false
    }
   },
   "outputs": [],
   "source": [
    "# import pickle from standard library\n",
    "import pickle\n",
    "\n",
    "# load the database as a pickle file\n",
    "with open('imdb.pickle', 'rb') as r:\n",
    "    DB = pickle.load(r)\n",
    "    \n",
    "# limit the amount of results to 20\n",
    "def limit(q):  # decorator\n",
    "    def f(*args, **kwargs):\n",
    "        return q(*args, **kwargs)[:20]\n",
    "    return f"
   ]
  },
  {
   "cell_type": "markdown",
   "metadata": {
    "deletable": false,
    "editable": false,
    "nbgrader": {
     "checksum": "d250442add5db205607b761ceffc405f",
     "grade": false,
     "grade_id": "cell-978a2d297a936d81",
     "locked": true,
     "schema_version": 1,
     "solution": false
    }
   },
   "source": [
    "# Examples"
   ]
  },
  {
   "cell_type": "code",
   "execution_count": 13,
   "metadata": {
    "deletable": false,
    "editable": false,
    "nbgrader": {
     "checksum": "aec86a25dab559d591dec2bc02806a41",
     "grade": false,
     "grade_id": "cell-4848e23d60405c9a",
     "locked": true,
     "schema_version": 1,
     "solution": false
    }
   },
   "outputs": [
    {
     "data": {
      "text/plain": [
       "['names', 'basics', 'akas', 'ratings', 'writers', 'directors', 'principals']"
      ]
     },
     "execution_count": 13,
     "metadata": {},
     "output_type": "execute_result"
    }
   ],
   "source": [
    "# the database is a dictionnary\n",
    "# print the names of the tables\n",
    "list(DB.keys())"
   ]
  },
  {
   "cell_type": "code",
   "execution_count": 14,
   "metadata": {
    "deletable": false,
    "editable": false,
    "nbgrader": {
     "checksum": "6fa62b4fa1f3fe47cb398c027ab81481",
     "grade": false,
     "grade_id": "cell-bcd524f2dbc79c65",
     "locked": true,
     "schema_version": 1,
     "solution": false
    }
   },
   "outputs": [
    {
     "data": {
      "text/plain": [
       "[('nm0000007',\n",
       "  'Humphrey Bogart',\n",
       "  1899,\n",
       "  1957,\n",
       "  'actor,soundtrack,producer',\n",
       "  'tt0037382,tt0033870,tt0034583,tt0043265'),\n",
       " ('nm0000026',\n",
       "  'Cary Grant',\n",
       "  1904,\n",
       "  1986,\n",
       "  'actor,soundtrack,producer',\n",
       "  'tt0053125,tt0036613,tt0048728,tt0056923'),\n",
       " ('nm0000033',\n",
       "  'Alfred Hitchcock',\n",
       "  1899,\n",
       "  1980,\n",
       "  'actor,director,producer',\n",
       "  'tt0054215,tt0053125,tt0052357,tt0030341')]"
      ]
     },
     "execution_count": 14,
     "metadata": {},
     "output_type": "execute_result"
    }
   ],
   "source": [
    "# a table is a list of tuples\n",
    "# retrieve the first 3 tuples\n",
    "DB[\"names\"][0:3]"
   ]
  },
  {
   "cell_type": "code",
   "execution_count": 15,
   "metadata": {
    "deletable": false,
    "editable": false,
    "nbgrader": {
     "checksum": "9c62441c93ada8d86b4a6db183bcae03",
     "grade": false,
     "grade_id": "cell-abebe0ac7484d5d7",
     "locked": true,
     "schema_version": 1,
     "solution": false
    }
   },
   "outputs": [
    {
     "name": "stdout",
     "output_type": "stream",
     "text": [
      "names\n",
      "('nm0000007', 'Humphrey Bogart', 1899, 1957, 'actor,soundtrack,producer', 'tt0037382,tt0033870,tt0034583,tt0043265')\n",
      "basics\n",
      "('tt0100275', 'movie', 'The Wandering Soap Opera', 'La Telenovela Errante', 0, 2017, None, 80, 'Comedy,Drama,Fantasy')\n",
      "akas\n",
      "('tt0100275', 1, 'La Telenovela Errante', None, None, 'original', None, 1)\n",
      "ratings\n",
      "('tt0100275', 6.8, 92)\n",
      "writers\n",
      "('tt0100275', 'nm0749914')\n",
      "directors\n",
      "('tt0100275', 'nm0749914')\n",
      "principals\n",
      "('tt0100275', 1, 'nm0016013', 'actor', None, None)\n"
     ]
    }
   ],
   "source": [
    "# print the first table row\n",
    "for name, table in DB.items():\n",
    "    for row in table:\n",
    "        print(name)\n",
    "        print(row)\n",
    "        break"
   ]
  },
  {
   "cell_type": "code",
   "execution_count": 17,
   "metadata": {
    "deletable": false,
    "editable": false,
    "nbgrader": {
     "checksum": "3a393b8124d29942ea86fddbd23dfb26",
     "grade": false,
     "grade_id": "cell-5d6390117dcfe789",
     "locked": true,
     "schema_version": 1,
     "solution": false
    }
   },
   "outputs": [
    {
     "data": {
      "text/plain": [
       "[1, 2, 3, 4, 5, 6]"
      ]
     },
     "execution_count": 17,
     "metadata": {},
     "output_type": "execute_result"
    }
   ],
   "source": [
    "# there is one important thing you should know about Python values !\n",
    "# most data structures are mutable, and can be modified in your code\n",
    "\n",
    "a = [1, 2, 3]\n",
    "a.extend([4, 5, 6])\n",
    "\n",
    "a"
   ]
  },
  {
   "cell_type": "code",
   "execution_count": 18,
   "metadata": {
    "deletable": false,
    "editable": false,
    "nbgrader": {
     "checksum": "fbd4987ee9418c5e1882cff32a7deb97",
     "grade": false,
     "grade_id": "cell-327ef4f2f397f4cb",
     "locked": true,
     "schema_version": 1,
     "solution": false
    }
   },
   "outputs": [
    {
     "data": {
      "text/plain": [
       "([1, 2, 3], [1, 2, 3, 4, 5, 6], [4, 5, 6])"
      ]
     },
     "execution_count": 18,
     "metadata": {},
     "output_type": "execute_result"
    }
   ],
   "source": [
    "# you can prevent these side effects by creating:\n",
    "# - an empty structure\n",
    "# - a copy\n",
    "\n",
    "a = [1, 2, 3]\n",
    "b = a.copy()\n",
    "c = list()\n",
    "\n",
    "b.extend([4, 5, 6])\n",
    "c.extend([4, 5, 6])\n",
    "\n",
    "a, b, c"
   ]
  },
  {
   "cell_type": "code",
   "execution_count": 19,
   "metadata": {
    "deletable": false,
    "editable": false,
    "nbgrader": {
     "checksum": "7d3fcf92bb22359a3af8b5db88c5a5ee",
     "grade": false,
     "grade_id": "cell-90e676d865aa672c",
     "locked": true,
     "schema_version": 1,
     "solution": false
    }
   },
   "outputs": [
    {
     "data": {
      "text/plain": [
       "([1, 2, 3], [1, 2, 3, 4, 5, 6])"
      ]
     },
     "execution_count": 19,
     "metadata": {},
     "output_type": "execute_result"
    }
   ],
   "source": [
    "# you can also use immutable operators to create new object\n",
    "\n",
    "a = [1, 2, 3]\n",
    "b = a + [4, 5, 6]\n",
    "\n",
    "a, b"
   ]
  },
  {
   "cell_type": "markdown",
   "metadata": {
    "deletable": false,
    "editable": false,
    "nbgrader": {
     "checksum": "492dfde0a16d738278893ec29556fd68",
     "grade": false,
     "grade_id": "cell-5ea24f368c8adfac",
     "locked": true,
     "schema_version": 1,
     "solution": false
    }
   },
   "source": [
    "# OPERATORS"
   ]
  },
  {
   "cell_type": "code",
   "execution_count": 5,
   "metadata": {
    "deletable": false,
    "editable": false,
    "nbgrader": {
     "checksum": "ad8926da6431952398804abb5cc0a1c5",
     "grade": false,
     "grade_id": "cell-8f89ea42f00fa268",
     "locked": true,
     "schema_version": 1,
     "solution": false
    }
   },
   "outputs": [],
   "source": [
    "# this operator is provided as an example\n",
    "\n",
    "def union(r, s):\n",
    "    \"\"\"Concatenate tuples from relation r and s.\"\"\"\n",
    "    t = list()\n",
    "    t.extend(r)\n",
    "    t.extend(s)\n",
    "    return t"
   ]
  },
  {
   "cell_type": "code",
   "execution_count": 4,
   "metadata": {
    "deletable": false,
    "editable": false,
    "nbgrader": {
     "checksum": "9bdf20f11493cbbbc46557c6cc1fa484",
     "grade": false,
     "grade_id": "cell-c6126d08c0480745",
     "locked": true,
     "schema_version": 1,
     "solution": false
    }
   },
   "outputs": [],
   "source": [
    "assert union([], []) == []\n",
    "assert union([(1, 2, 3)], []) == [(1, 2, 3)]\n",
    "assert union([], [(1, 2, 3)]) == [(1, 2, 3)]\n",
    "assert union([(1, 2, 3)], [(4, 5, 6)]) == [(1, 2, 3), (4, 5, 6)]\n",
    "assert union([(4, 5, 6)], [(1, 2, 3)]) == [(4, 5, 6), (1, 2, 3)]\n",
    "assert union([(1, 2, 3), (4, 5, 6)], [(7, 8, 9)]) == [(1, 2, 3), (4, 5, 6), (7, 8, 9)]\n",
    "assert union([(1, 2, 3)], [(4, 5, 6), (7, 8, 9)]) == [(1, 2, 3), (4, 5, 6), (7, 8, 9)]"
   ]
  },
  {
   "cell_type": "code",
   "execution_count": 22,
   "metadata": {},
   "outputs": [
    {
     "ename": "AssertionError",
     "evalue": "",
     "output_type": "error",
     "traceback": [
      "\u001b[0;31m---------------------------------------------------------------------------\u001b[0m",
      "\u001b[0;31mAssertionError\u001b[0m                            Traceback (most recent call last)",
      "\u001b[0;32m<ipython-input-22-d124f7184495>\u001b[0m in \u001b[0;36m<module>\u001b[0;34m()\u001b[0m\n\u001b[0;32m----> 1\u001b[0;31m \u001b[0;32massert\u001b[0m \u001b[0munion\u001b[0m\u001b[0;34m(\u001b[0m\u001b[0;34m[\u001b[0m\u001b[0;36m1\u001b[0m\u001b[0;34m,\u001b[0m\u001b[0;36m2\u001b[0m\u001b[0;34m,\u001b[0m\u001b[0;36m3\u001b[0m\u001b[0;34m]\u001b[0m\u001b[0;34m,\u001b[0m\u001b[0;34m[\u001b[0m\u001b[0;36m1\u001b[0m\u001b[0;34m,\u001b[0m\u001b[0;36m2\u001b[0m\u001b[0;34m,\u001b[0m\u001b[0;36m3\u001b[0m\u001b[0;34m]\u001b[0m\u001b[0;34m)\u001b[0m \u001b[0;34m==\u001b[0m \u001b[0;34m[\u001b[0m\u001b[0;36m1\u001b[0m\u001b[0;34m,\u001b[0m\u001b[0;36m2\u001b[0m\u001b[0;34m,\u001b[0m\u001b[0;36m3\u001b[0m\u001b[0;34m]\u001b[0m\u001b[0;34m\u001b[0m\u001b[0m\n\u001b[0m",
      "\u001b[0;31mAssertionError\u001b[0m: "
     ]
    }
   ],
   "source": [
    "assert union([1,2,3],[1,2,3]) == [1,2,3]"
   ]
  },
  {
   "cell_type": "code",
   "execution_count": 6,
   "metadata": {
    "deletable": false,
    "nbgrader": {
     "checksum": "b22294d89262c4072bbe0e410c4f76a5",
     "grade": false,
     "grade_id": "cell-80e16a9e439489ca",
     "locked": false,
     "schema_version": 1,
     "solution": true
    }
   },
   "outputs": [],
   "source": [
    "def difference(r, s):\n",
    "    \"\"\"Keep the tuple of r that are not in s.\"\"\"\n",
    "    t = list()\n",
    "    t.extend(r)\n",
    "    # YOUR CODE HERE\n",
    "    i=0\n",
    "    \n",
    "    while i<len(t):\n",
    "        loopbroken = False\n",
    "        for j in range(len(s)):\n",
    "            if t[i] == s[j]:\n",
    "                t.remove(t[i])\n",
    "                loopbroken = True\n",
    "                break\n",
    "        if loopbroken == False:\n",
    "            i+=1\n",
    "            \n",
    "    #raise NotImplementedError()\n",
    "    return t"
   ]
  },
  {
   "cell_type": "code",
   "execution_count": 6,
   "metadata": {
    "deletable": false,
    "editable": false,
    "nbgrader": {
     "checksum": "0b2cb3a601f252607fb329fcd147d59a",
     "grade": true,
     "grade_id": "cell-f03c5807a027b112",
     "locked": true,
     "points": 2,
     "schema_version": 1,
     "solution": false
    }
   },
   "outputs": [],
   "source": [
    "assert difference([], []) == []\n",
    "assert difference([(1, 2, 3)], []) == [(1, 2, 3)]\n",
    "assert difference([], [(1, 2, 3)]) == []\n",
    "assert difference([(1, 2, 3)], [(1, 2, 3)]) == []\n",
    "assert difference([(1, 2, 3)], [(4, 5, 6)]) == [(1, 2, 3)]\n",
    "assert difference([(1, 2, 3)], [(1, 2, 3), (4, 5, 6)]) == []\n",
    "assert difference([(1, 2, 3)], [(4, 5, 6), (7, 8, 8)]) == [(1, 2, 3)]\n",
    "assert difference([(1, 2, 3), (4, 5, 6)], [(1, 2, 3)]) == [(4, 5, 6)]\n",
    "assert difference([(1, 2, 3), (4, 5, 6)], [(4, 5, 6)]) == [(1, 2, 3)]\n",
    "assert difference([(1, 2, 3), (4, 5, 6)], [(7, 8, 9)]) == [(1, 2, 3), (4, 5, 6)]"
   ]
  },
  {
   "cell_type": "code",
   "execution_count": 8,
   "metadata": {
    "deletable": false,
    "nbgrader": {
     "checksum": "6e1ab24a439d52dd92382d2036890e6f",
     "grade": false,
     "grade_id": "cell-a66a7ba43d252280",
     "locked": false,
     "schema_version": 1,
     "solution": true
    }
   },
   "outputs": [],
   "source": [
    "def intersection(r, s):\n",
    "    \"\"\"Keep tuples of r that are also in s.\"\"\"\n",
    "    t = list()\n",
    "    # YOUR CODE HERE\n",
    "    for i in range(len(s)):\n",
    "        for j in range(len(r)):\n",
    "            if s[i] == r[j]:\n",
    "                t.append(s[i])\n",
    "            \n",
    "    #raise NotImplementedError()\n",
    "    return t"
   ]
  },
  {
   "cell_type": "code",
   "execution_count": 8,
   "metadata": {
    "deletable": false,
    "editable": false,
    "nbgrader": {
     "checksum": "8ed2712ad0099802f5f829cc855cc9f5",
     "grade": true,
     "grade_id": "cell-a8b09737ac98c2df",
     "locked": true,
     "points": 2,
     "schema_version": 1,
     "solution": false
    }
   },
   "outputs": [],
   "source": [
    "assert intersection([], []) == []\n",
    "assert intersection([(1, 2, 3)], []) == []\n",
    "assert intersection([], [(1, 2, 3)]) == []\n",
    "assert intersection([(1, 2, 3)], [(4, 5, 6)]) == []\n",
    "assert intersection([(4, 5, 6)], [(1, 2, 3)]) == []\n",
    "assert intersection([(1, 2, 3)], [(1, 2, 3)]) == [(1, 2, 3)]\n",
    "assert intersection([(4, 5, 6)], [(4, 5, 6)]) == [(4, 5, 6)]\n",
    "assert intersection([(1, 2, 3), (4, 5, 6)], [(7, 8, 9)]) == []\n",
    "assert intersection([(1, 2, 3), (4, 5, 6)], [(1, 2, 3)]) == [(1, 2, 3)]\n",
    "assert intersection([(1, 2, 3), (4, 5, 6)], [(4, 5, 6)]) == [(4, 5, 6)]"
   ]
  },
  {
   "cell_type": "code",
   "execution_count": 9,
   "metadata": {
    "deletable": false,
    "nbgrader": {
     "checksum": "bb9fbf0c577b0c7200267b60b42b1831",
     "grade": false,
     "grade_id": "cell-c4df43a7b0d7c4e8",
     "locked": false,
     "schema_version": 1,
     "solution": true
    }
   },
   "outputs": [],
   "source": [
    "def selection(r, cond):\n",
    "    \"\"\"Keep tuples that satisfy cond (i.e., when cond is True).\"\"\"\n",
    "    t = list()\n",
    "    # YOUR CODE HERE\n",
    "    for i in range(len(r)):\n",
    "        if cond(r[i]):\n",
    "            t.append(r[i])\n",
    "    #raise NotImplementedError()\n",
    "    return t"
   ]
  },
  {
   "cell_type": "code",
   "execution_count": 10,
   "metadata": {
    "deletable": false,
    "editable": false,
    "nbgrader": {
     "checksum": "777d4073a899d0301e0f37fd81d50fc1",
     "grade": true,
     "grade_id": "cell-988b583e38ada6d8",
     "locked": true,
     "points": 2,
     "schema_version": 1,
     "solution": false
    }
   },
   "outputs": [],
   "source": [
    "assert selection([], lambda x: True) == []\n",
    "assert selection([], lambda x: False) == []\n",
    "assert selection([(1, 2, 3)], lambda x: False) == []\n",
    "assert selection([(4, 5, 6)], lambda x: False) == []\n",
    "assert selection([(1, 2, 3)], lambda x: x[0] == 9) == []\n",
    "assert selection([(1, 2, 3)], lambda x: True) == [(1, 2, 3)]\n",
    "assert selection([(4, 5, 6)], lambda x: True) == [(4, 5, 6)]\n",
    "assert selection([(1, 2, 3)], lambda x: x[0] == 1) == [(1, 2, 3)]\n",
    "assert selection([(1, 2, 3), (4, 5, 6)], lambda x: x[0] == 9) == []\n",
    "assert selection([(1, 2, 3), (4, 5, 6)], lambda x: x[0] == 1) == [(1, 2, 3)]\n",
    "assert selection([(1, 2, 3), (4, 5, 6)], lambda x: x[0] == 4) == [(4, 5, 6)]"
   ]
  },
  {
   "cell_type": "code",
   "execution_count": 10,
   "metadata": {
    "deletable": false,
    "nbgrader": {
     "checksum": "2c4a63248776cb36a090fe21d6e93b47",
     "grade": false,
     "grade_id": "cell-08d77510c95184b4",
     "locked": false,
     "schema_version": 1,
     "solution": true
    }
   },
   "outputs": [],
   "source": [
    "def projection(r, cols):\n",
    "    \"\"\"Keep attributes that are in cols for each tuple of r.\"\"\"\n",
    "    t = list()\n",
    "    # YOUR CODE HERE\n",
    "    for i in range(len(r)):\n",
    "        x=[]\n",
    "        for j in range(len(cols)):\n",
    "            x.append(r[i][cols[j]])\n",
    "        t.append(tuple(x))\n",
    "            \n",
    "    #raise NotImplementedError()\n",
    "    return t"
   ]
  },
  {
   "cell_type": "code",
   "execution_count": 12,
   "metadata": {
    "deletable": false,
    "editable": false,
    "nbgrader": {
     "checksum": "5374f02d214d6b74a7381cf850f0632b",
     "grade": true,
     "grade_id": "cell-ca83359ee07e113b",
     "locked": true,
     "points": 2,
     "schema_version": 1,
     "solution": false
    }
   },
   "outputs": [],
   "source": [
    "assert projection([], []) == []\n",
    "assert projection([(4, 5, 6)], []) == [()]\n",
    "assert projection([(4, 5, 6)], [0]) == [(4,)]\n",
    "assert projection([(4, 5, 6)], [1]) == [(5,)]\n",
    "assert projection([(4, 5, 6)], [2]) == [(6,)]\n",
    "assert projection([(4, 5, 6)], [0, 2]) == [(4, 6)]\n",
    "assert projection([(4, 5, 6), (7, 8, 9)], [1]) == [(5,), (8,)]\n",
    "assert projection([(4, 5, 6), (7, 8, 9)], [0, 2]) == [(4, 6), (7, 9)]"
   ]
  },
  {
   "cell_type": "code",
   "execution_count": 11,
   "metadata": {
    "deletable": false,
    "nbgrader": {
     "checksum": "40e71cd62674480ee0643734e4f6d42f",
     "grade": false,
     "grade_id": "cell-82b890bfc576cef7",
     "locked": false,
     "schema_version": 1,
     "solution": true
    }
   },
   "outputs": [],
   "source": [
    "def join(r, s):\n",
    "    \"\"\"Generate all combination of tuples for relation r and s.\"\"\"\n",
    "    t = list()\n",
    "    # YOUR CODE HERE\n",
    "    for i in range(len(r)):\n",
    "        for j in range(len(s)):\n",
    "            temp = list(r[i])\n",
    "            temp.extend(list(s[j]))\n",
    "            t.append(tuple(temp))\n",
    "            #t.append(tuple(list(r[i]).extend(list(s[j]))))\n",
    "    #raise NotImplementedError()\n",
    "    return t"
   ]
  },
  {
   "cell_type": "code",
   "execution_count": 14,
   "metadata": {
    "deletable": false,
    "editable": false,
    "nbgrader": {
     "checksum": "549ad55b75563fb080db12c7fe239909",
     "grade": true,
     "grade_id": "cell-5395f5033f5793db",
     "locked": true,
     "points": 2,
     "schema_version": 1,
     "solution": false
    }
   },
   "outputs": [],
   "source": [
    "assert join([], []) == []\n",
    "assert join([(1, 2, 3)], []) == []\n",
    "assert join([], [(1, 2, 3)]) == []\n",
    "assert join([(1, 2, 3)], [(4, 5, 6)]) == [(1, 2, 3, 4, 5, 6)]\n",
    "assert join([(4, 5, 6)], [(1, 2, 3)]) == [(4, 5, 6, 1, 2, 3)]\n",
    "assert join([(1, 2, 3), (4, 5, 6)], [(7, 8, 9)]) == [(1, 2, 3, 7, 8, 9), (4, 5, 6, 7, 8, 9)]\n",
    "assert join([(7, 8, 9)], [(1, 2, 3), (4, 5, 6)]) == [(7, 8, 9, 1, 2, 3), (7, 8, 9, 4, 5, 6)]\n",
    "assert join([(1, 2), (3, 4)], [(5, 6), (7, 9), (9, 0)]) == [(1, 2, 5, 6), (1, 2, 7, 9),\n",
    "                                                            (1, 2, 9, 0), (3, 4, 5, 6),\n",
    "                                                            (3, 4, 7, 9), (3, 4, 9, 0)]"
   ]
  },
  {
   "cell_type": "markdown",
   "metadata": {
    "deletable": false,
    "editable": false,
    "nbgrader": {
     "checksum": "6b87aada1b2e858f9ed84ae30ba7f3cf",
     "grade": false,
     "grade_id": "cell-92a9722506903603",
     "locked": true,
     "schema_version": 1,
     "solution": false
    }
   },
   "source": [
    "# QUERIES"
   ]
  },
  {
   "cell_type": "markdown",
   "metadata": {
    "deletable": false,
    "editable": false,
    "nbgrader": {
     "checksum": "7114f78107bd748fb446ecc37b68752a",
     "grade": false,
     "grade_id": "cell-b7861e68171e720e",
     "locked": true,
     "schema_version": 1,
     "solution": false
    }
   },
   "source": [
    "__0. Select the primary title, start year and runtime of movies that are 120 minutes long__\n",
    "  - _hint: always filter a query with `selection` before applying any other operators_"
   ]
  },
  {
   "cell_type": "code",
   "execution_count": 33,
   "metadata": {
    "deletable": false,
    "editable": false,
    "nbgrader": {
     "checksum": "5bb6eb044e84663b749f66b15e080af8",
     "grade": false,
     "grade_id": "cell-b4f5ef7f0c377f0d",
     "locked": true,
     "schema_version": 1,
     "solution": false
    }
   },
   "outputs": [
    {
     "data": {
      "text/plain": [
       "[('Justice League', 2017, 120),\n",
       " ('Five Fingers for Marseilles', 2017, 120),\n",
       " ('Long Live the Horror', 2017, 120),\n",
       " ('Wonderkind', 2017, 120),\n",
       " ('Snowflake', 2017, 120),\n",
       " ('The Dinner', 2017, 120),\n",
       " ('Patel Ki Punjabi Shaadi', 2017, 120),\n",
       " ('Beyond the Clouds', 2017, 120),\n",
       " ('Myr vashomu domu!', 2017, 120),\n",
       " ('The Man with the Iron Heart', 2017, 120),\n",
       " ('G: A Dark Tale of Desires', 2017, 120),\n",
       " ('Bank Chor', 2017, 120),\n",
       " ('Vorticale', 2017, 120),\n",
       " ('Love Pret-a-porte', 2017, 120),\n",
       " ('Blood Ties', 2017, 120),\n",
       " ('Mary Shelley', 2017, 120),\n",
       " ('The Space Between Us', 2017, 120),\n",
       " ('Okja', 2017, 120),\n",
       " (\"Fate/Stay Night: Heaven's Feel - I. Presage Flower\", 2017, 120),\n",
       " ('Rough Stuff', 2017, 120)]"
      ]
     },
     "execution_count": 33,
     "metadata": {},
     "output_type": "execute_result"
    }
   ],
   "source": [
    "@limit\n",
    "def Q0():\n",
    "    r1 = selection(DB[\"basics\"], lambda x: x[7] is not None and x[7] == 120)\n",
    "    r2 = projection(r1, [2, 5, 7])\n",
    "    return r2\n",
    "\n",
    "Q0()"
   ]
  },
  {
   "cell_type": "code",
   "execution_count": 34,
   "metadata": {
    "deletable": false,
    "editable": false,
    "nbgrader": {
     "checksum": "af4d1fee53e7cb8198c269726bfe1100",
     "grade": false,
     "grade_id": "cell-23757a8ece153189",
     "locked": true,
     "schema_version": 1,
     "solution": false
    }
   },
   "outputs": [],
   "source": [
    "assert Q0() == [\n",
    "    ('Justice League', 2017, 120),\n",
    "    ('Five Fingers for Marseilles', 2017, 120),\n",
    "    ('Long Live the Horror', 2017, 120),\n",
    "    ('Wonderkind', 2017, 120),\n",
    "    ('Snowflake', 2017, 120),\n",
    "    ('The Dinner', 2017, 120),\n",
    "    ('Patel Ki Punjabi Shaadi', 2017, 120),\n",
    "    ('Beyond the Clouds', 2017, 120),\n",
    "    ('Myr vashomu domu!', 2017, 120),\n",
    "    ('The Man with the Iron Heart', 2017, 120),\n",
    "    ('G: A Dark Tale of Desires', 2017, 120),\n",
    "    ('Bank Chor', 2017, 120),\n",
    "    ('Vorticale', 2017, 120),\n",
    "    ('Love Pret-a-porte', 2017, 120),\n",
    "    ('Blood Ties', 2017, 120),\n",
    "    ('Mary Shelley', 2017, 120),\n",
    "    ('The Space Between Us', 2017, 120),\n",
    "    ('Okja', 2017, 120),\n",
    "    (\"Fate/Stay Night: Heaven's Feel - I. Presage Flower\", 2017, 120),\n",
    "    ('Rough Stuff', 2017, 120),\n",
    "]"
   ]
  },
  {
   "cell_type": "markdown",
   "metadata": {
    "deletable": false,
    "editable": false,
    "nbgrader": {
     "checksum": "ac6a1553525896fd02f1fa54c28d475b",
     "grade": false,
     "grade_id": "cell-07d5474e1271371b",
     "locked": true,
     "schema_version": 1,
     "solution": false
    }
   },
   "source": [
    "__1: Select the name of persons born in 2000 and whose primary profession is 'actresses'__\n",
    "  - _hint: you can query the 'names' table to retrieve these two information_"
   ]
  },
  {
   "cell_type": "code",
   "execution_count": 35,
   "metadata": {
    "deletable": false,
    "nbgrader": {
     "checksum": "f85bdd56f105313ffb425d1d10c6f9e9",
     "grade": false,
     "grade_id": "cell-473734dbb058859c",
     "locked": false,
     "schema_version": 1,
     "solution": true
    }
   },
   "outputs": [
    {
     "data": {
      "text/plain": [
       "[('Esme Creed-Miles',),\n",
       " ('Cami Ottman',),\n",
       " ('Shelby Lyon',),\n",
       " ('Minami Hamabe',),\n",
       " ('Moka Kamishiraishi',),\n",
       " ('Bente Fokkens',),\n",
       " ('Mima Ito',),\n",
       " ('Na-Na OuYang',),\n",
       " ('Zaira Wasim',),\n",
       " ('Destina Baser',)]"
      ]
     },
     "execution_count": 35,
     "metadata": {},
     "output_type": "execute_result"
    }
   ],
   "source": [
    "@limit\n",
    "def Q1():\n",
    "    # YOUR CODE HERE\n",
    "    r1 = selection(DB[\"names\"], lambda x: x[2] == 2000 and 'actress' == x[4]) #in?\n",
    "    r2 = projection(r1, [1])\n",
    "    #raise NotImplementedError()\n",
    "    return r2\n",
    "\n",
    "Q1()"
   ]
  },
  {
   "cell_type": "code",
   "execution_count": 36,
   "metadata": {
    "deletable": false,
    "editable": false,
    "nbgrader": {
     "checksum": "e0d09b32814c131a5cf23d1942e3e3da",
     "grade": true,
     "grade_id": "cell-dab152dc1fee5624",
     "locked": true,
     "points": 2,
     "schema_version": 1,
     "solution": false
    }
   },
   "outputs": [],
   "source": [
    "assert len(Q1()) == 10  # has 10 rows\n",
    "assert all(len(row) == 1 for row in Q1())  # has 1 columns per row (primary name)"
   ]
  },
  {
   "cell_type": "markdown",
   "metadata": {
    "deletable": false,
    "editable": false,
    "nbgrader": {
     "checksum": "cbed0237a813b77c358a5c9864375a9d",
     "grade": false,
     "grade_id": "cell-c12b1a9eaf063f02",
     "locked": true,
     "schema_version": 1,
     "solution": false
    }
   },
   "source": [
    "__2: Select the name, rating and votes of movies whose rating > 9 and number of vote > 1000__\n",
    "  - _hint: you should join the `ratings` and `basics` relations to associated their information_"
   ]
  },
  {
   "cell_type": "code",
   "execution_count": 37,
   "metadata": {
    "deletable": false,
    "nbgrader": {
     "checksum": "cf337200d27cd1fc498f3590c9a06faa",
     "grade": false,
     "grade_id": "cell-1877b3fd18660e79",
     "locked": false,
     "schema_version": 1,
     "solution": true
    }
   },
   "outputs": [
    {
     "data": {
      "text/plain": [
       "[('Hans Zimmer: Live in Prague', 9.1, 1293),\n",
       " ('Aloko Udapadi', 9.6, 6435),\n",
       " ('On vam ne Dimon', 9.2, 2618)]"
      ]
     },
     "execution_count": 37,
     "metadata": {},
     "output_type": "execute_result"
    }
   ],
   "source": [
    "@limit\n",
    "def Q2():\n",
    "    # YOUR CODE HERE\n",
    "    r1 = selection(DB[\"ratings\"],lambda x: x[1]>9 and x[2]>1000)\n",
    "    r2 = projection(DB[\"basics\"],[0,2])\n",
    "    r3 = join (r2, r1)\n",
    "    r3 = selection(r3, lambda x: x[0] == x[2])\n",
    "    \n",
    "    return projection(r3,[1,3,4])\n",
    "    #raise NotImplementedError()\n",
    "\n",
    "Q2()"
   ]
  },
  {
   "cell_type": "code",
   "execution_count": 38,
   "metadata": {
    "deletable": false,
    "editable": false,
    "nbgrader": {
     "checksum": "0ece1cc8e47a7d8ef75859ee75a85e53",
     "grade": true,
     "grade_id": "cell-e36b40d053907d08",
     "locked": true,
     "points": 2,
     "schema_version": 1,
     "solution": false
    }
   },
   "outputs": [],
   "source": [
    "assert len(Q2()) == 3  # has 3 rows\n",
    "assert all(len(row) == 3 for row in Q2())  # has 3 column per row (primary title, average rating, number of votes)"
   ]
  },
  {
   "cell_type": "markdown",
   "metadata": {
    "deletable": false,
    "editable": false,
    "nbgrader": {
     "checksum": "0fb7ca3938217fbacde1e7ec9866ee98",
     "grade": false,
     "grade_id": "cell-cb3fb8a4a5faf42a",
     "locked": true,
     "schema_version": 1,
     "solution": false
    }
   },
   "source": [
    "__3: Select the primary name and genre of movies directed by 'Larry Rosen'__\n",
    "  - _hint: remember to filter tuple before joining relations together !_"
   ]
  },
  {
   "cell_type": "code",
   "execution_count": 43,
   "metadata": {
    "deletable": false,
    "nbgrader": {
     "checksum": "bb4f322d51a3b28e359aa9e767b890bd",
     "grade": false,
     "grade_id": "cell-71ed082b62c037ff",
     "locked": false,
     "schema_version": 1,
     "solution": true
    }
   },
   "outputs": [
    {
     "data": {
      "text/plain": [
       "[('After the Outbreak', 'Horror,Sci-Fi'),\n",
       " ('Paranoia Tapes', 'Horror'),\n",
       " ('Surviving the Outbreak', 'Horror,Sci-Fi'),\n",
       " ('The New Roommate', 'Drama,Thriller'),\n",
       " ('Into the Outbreak', 'Horror,Sci-Fi'),\n",
       " ('Paranoia Films 2: Press Play', 'Horror'),\n",
       " ('Death at a Barbecue', 'Horror,Thriller'),\n",
       " ('Second Escape', 'Drama'),\n",
       " ('Something Like Love', 'Drama'),\n",
       " ('Gwendolyn', 'Drama'),\n",
       " ('Revenge is Best Served', 'Horror'),\n",
       " ('The Question', 'Drama,Romance'),\n",
       " ('Death of Love', 'Drama,Romance')]"
      ]
     },
     "execution_count": 43,
     "metadata": {},
     "output_type": "execute_result"
    }
   ],
   "source": [
    "@limit\n",
    "def Q3():\n",
    "    # YOUR CODE HERE\n",
    "    r1 = selection(DB[\"names\"], lambda x: x[1] == 'Larry Rosen')\n",
    "    r1 = projection(r1,[0,1])\n",
    "    #raise NotImplementedError()\n",
    "    r2 = join(DB[\"directors\"],r1)\n",
    "    r2 = selection(r2, lambda x: x[1] == x[2])\n",
    "    \n",
    "    r3 = projection(DB[\"basics\"], [0,8,2])\n",
    "    r3 = join(r3,r2)\n",
    "    r3 = selection(r3, lambda x: x[0] == x[3])\n",
    "    \n",
    "    r4 = projection(r3, [2,1])\n",
    "    \n",
    "\n",
    "    return r4\n",
    "Q3()"
   ]
  },
  {
   "cell_type": "code",
   "execution_count": 44,
   "metadata": {
    "deletable": false,
    "editable": false,
    "nbgrader": {
     "checksum": "cc1a8e6cf849a4a391992ec2ca7afc1e",
     "grade": true,
     "grade_id": "cell-4bea5e25f426a53a",
     "locked": true,
     "points": 2,
     "schema_version": 1,
     "solution": false
    }
   },
   "outputs": [],
   "source": [
    "assert len(Q3()) == 13  # has 13 rows\n",
    "assert all(len(row) == 2 for row in Q3())  # has 2 columns per row (primary title, genres)"
   ]
  },
  {
   "cell_type": "markdown",
   "metadata": {
    "deletable": false,
    "editable": false,
    "nbgrader": {
     "checksum": "9f4ca3314ce29b26764289a4466eb6c7",
     "grade": false,
     "grade_id": "cell-29ff980b83942208",
     "locked": true,
     "schema_version": 1,
     "solution": false
    }
   },
   "source": [
    "__4: Select the translated title and language of the movie: 'Minecraft the Christmas Movie'__\n",
    "  - _hint: you can find these information in the `akas` table_"
   ]
  },
  {
   "cell_type": "code",
   "execution_count": 45,
   "metadata": {
    "deletable": false,
    "nbgrader": {
     "checksum": "9babb7a37262a0820ce9b797a60be7fd",
     "grade": false,
     "grade_id": "cell-1ff71a1dcc3378bf",
     "locked": false,
     "schema_version": 1,
     "solution": true
    }
   },
   "outputs": [
    {
     "data": {
      "text/plain": [
       "[('Minecraft la película de navidad', None),\n",
       " ('Minecraft the Christmas Movie', None),\n",
       " (\"Minecraft Rozhdestvenskiy fil'm\", None),\n",
       " ('Minecraft the Christmas Movie', None),\n",
       " ('Mainkurafutokurisumasumubi', None),\n",
       " ('Minecraft Filmul de Craciun', None),\n",
       " ('Minecraft the movie', None),\n",
       " ('Minecraft Le film de Noël', 'fr'),\n",
       " ('Minecraft Der Weihnachtsfilm', None),\n",
       " ('Minecraft I tainía ton Christougénnon', None)]"
      ]
     },
     "execution_count": 45,
     "metadata": {},
     "output_type": "execute_result"
    }
   ],
   "source": [
    "@limit\n",
    "def Q4():\n",
    "    # YOUR CODE HERE\n",
    "    #raise NotImplementedError()\n",
    "    r1 = selection(DB[\"basics\"], lambda x: x[2] == 'Minecraft the Christmas Movie')\n",
    "    r1 = projection(r1, [0,2])\n",
    "    \n",
    "    r2 = projection(DB[\"akas\"], [0,2,4])\n",
    "    \n",
    "    r3 = join(r2,r1)\n",
    "    r3 = selection(r3, lambda x: x[0] == x[3])\n",
    "    r3 = projection(r3, [1,2])\n",
    "    \n",
    "    return r3\n",
    "\n",
    "Q4()"
   ]
  },
  {
   "cell_type": "code",
   "execution_count": 46,
   "metadata": {
    "deletable": false,
    "editable": false,
    "nbgrader": {
     "checksum": "76b9a90b058ad78268d4d4114723f81d",
     "grade": true,
     "grade_id": "cell-61f0b5a2b0edf17d",
     "locked": true,
     "points": 2,
     "schema_version": 1,
     "solution": false
    }
   },
   "outputs": [],
   "source": [
    "assert len(Q4()) == 10  # has 10 rows\n",
    "assert all(len(row) for row in Q4())  # has 2 rows (title, language)"
   ]
  },
  {
   "cell_type": "markdown",
   "metadata": {
    "deletable": false,
    "editable": false,
    "nbgrader": {
     "checksum": "2304f10e6a4d1674e00e29659013d57a",
     "grade": false,
     "grade_id": "cell-6b6338b15df7a206",
     "locked": true,
     "schema_version": 1,
     "solution": false
    }
   },
   "source": [
    "__5: Select the primary title of movies with a rating > 9.5 but no translations (akas)__\n",
    "  - _hint: this is a job for set operators !_"
   ]
  },
  {
   "cell_type": "code",
   "execution_count": 18,
   "metadata": {
    "deletable": false,
    "nbgrader": {
     "checksum": "04cb2778ac0a170f44b9498d15f9cfe5",
     "grade": false,
     "grade_id": "cell-193f9d1070c87e8a",
     "locked": false,
     "schema_version": 1,
     "solution": true
    }
   },
   "outputs": [
    {
     "data": {
      "text/plain": [
       "[('The Musician',),\n",
       " ('The Narcissists',),\n",
       " ('Aloko Udapadi',),\n",
       " ('Moda Mia',),\n",
       " ('Lina',),\n",
       " ('Ufrivillig',),\n",
       " ('Golani',),\n",
       " ('To Let',),\n",
       " ('MacDonald Ranch',),\n",
       " ('Pupa',),\n",
       " ('Taawdo the Sunlight',),\n",
       " ('Una Historia Necesaria',),\n",
       " ('Re-action',),\n",
       " ('Trobocop: H synomwsia tou petradiou',),\n",
       " ('Ego-Sum',),\n",
       " ('Never-Ending Road',),\n",
       " ('Gangter in Morteni',)]"
      ]
     },
     "execution_count": 18,
     "metadata": {},
     "output_type": "execute_result"
    }
   ],
   "source": [
    "@limit\n",
    "def Q5():\n",
    "    r1 = selection(DB[\"ratings\"], lambda x : x[1]>9.5)\n",
    "    r2 = projection(DB[\"akas\"],[0,2])\n",
    "    \n",
    "    r4 = projection(DB[\"basics\"],[0,2])\n",
    "    r4 = join(r4,r1)\n",
    "    r4 = selection(r4, lambda x: x[0] == x[2])\n",
    "    \n",
    "    return projection(r4,[1])\n",
    "\n",
    "Q5()"
   ]
  },
  {
   "cell_type": "code",
   "execution_count": 19,
   "metadata": {
    "deletable": false,
    "editable": false,
    "nbgrader": {
     "checksum": "bdf86683844f1e2c760ec307d04c4cb1",
     "grade": true,
     "grade_id": "cell-79928838dd6c2845",
     "locked": true,
     "points": 2,
     "schema_version": 1,
     "solution": false
    }
   },
   "outputs": [],
   "source": [
    "assert len(Q5()) == 17\n",
    "assert all(len(row) == 1 for row in Q5())  # has 1 columns per row (primary title)"
   ]
  }
 ],
 "metadata": {
  "hide_input": false,
  "kernelspec": {
   "display_name": "Python 3",
   "language": "python",
   "name": "python3"
  },
  "language_info": {
   "codemirror_mode": {
    "name": "ipython",
    "version": 3
   },
   "file_extension": ".py",
   "mimetype": "text/x-python",
   "name": "python",
   "nbconvert_exporter": "python",
   "pygments_lexer": "ipython3",
   "version": "3.6.6"
  }
 },
 "nbformat": 4,
 "nbformat_minor": 2
}
